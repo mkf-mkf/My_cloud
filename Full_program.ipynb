{
 "cells": [
  {
   "cell_type": "markdown",
   "metadata": {},
   "source": [
    "Скачать статистику\n",
    "распарсить ее\n",
    "определить, есть ли график данного тикера и спайдера. если нет, то скачать\n",
    "создать графики и дневник\n",
    "(https://stackoverflow.com/questions/20219254/how-to-write-to-an-existing-excel-file-without-overwriting-data-using-pandas)\n"
   ]
  },
  {
   "cell_type": "code",
   "execution_count": 21,
   "metadata": {},
   "outputs": [],
   "source": [
    "#import saver\n",
    "#import tradestochart as ttc\n",
    "import datetime as dt\n",
    "import pandas as pd\n",
    "import os\n",
    "import re"
   ]
  },
  {
   "cell_type": "code",
   "execution_count": 16,
   "metadata": {},
   "outputs": [
    {
     "ename": "TypeError",
     "evalue": "'<' not supported between instances of 'datetime.datetime' and 'NoneType'",
     "output_type": "error",
     "traceback": [
      "\u001b[1;31m---------------------------------------------------------------------------\u001b[0m",
      "\u001b[1;31mTypeError\u001b[0m                                 Traceback (most recent call last)",
      "\u001b[1;32m<ipython-input-16-802087e3d630>\u001b[0m in \u001b[0;36m<module>\u001b[1;34m()\u001b[0m\n\u001b[1;32m----> 1\u001b[1;33m \u001b[0mdt\u001b[0m\u001b[1;33m.\u001b[0m\u001b[0mdatetime\u001b[0m\u001b[1;33m.\u001b[0m\u001b[0mstrptime\u001b[0m\u001b[1;33m(\u001b[0m\u001b[1;34m'2018-06-07'\u001b[0m\u001b[1;33m,\u001b[0m \u001b[1;34m'%Y-%m-%d'\u001b[0m\u001b[1;33m)\u001b[0m \u001b[1;33m<\u001b[0m \u001b[1;32mNone\u001b[0m\u001b[1;33m\u001b[0m\u001b[0m\n\u001b[0m",
      "\u001b[1;31mTypeError\u001b[0m: '<' not supported between instances of 'datetime.datetime' and 'NoneType'"
     ]
    }
   ],
   "source": [
    "dt.datetime.strptime('2018-06-07', '%Y-%m-%d') < None"
   ]
  },
  {
   "cell_type": "code",
   "execution_count": 20,
   "metadata": {},
   "outputs": [],
   "source": [
    "class WrongDatesOrder(Exception):\n",
    "    pass"
   ]
  },
  {
   "cell_type": "code",
   "execution_count": 37,
   "metadata": {},
   "outputs": [],
   "source": [
    "def looking_for_chart(ticker, start_day, end_day=None):\n",
    "    if end_day and start_day > end_day:\n",
    "        raise WrongDatesOrder('Старт дей больше енд дея')\n",
    "        \n",
    "    files = os.listdir(os.path.join(esignal_charts_path, ticker))\n",
    "    file_name_pattern = re.compile(r'') # TO DO\n",
    "    existing_charts = {}\n",
    "    \n",
    "    for file in files:\n",
    "        start_end = []\n",
    "        parser = re.search(file_name_pattern, file)\n",
    "        start_end.append(dt.datetime.strptime(parser[1], esignal_date_format),\n",
    "                         dt.datetime.strptime(parser[2], esignal_date_format))\n",
    "        \n",
    "        existing_charts[file] = start_end\n",
    "        \n",
    "    for file_name, [start_file, end_file] in existing_charts.items():\n",
    "        if start_file < start_day <= end_file:\n",
    "            if not end_day:\n",
    "                return file_name\n",
    "            \n",
    "            elif end_day <= end_file:\n",
    "                return file_name\n",
    "    return None\n",
    "                "
   ]
  },
  {
   "cell_type": "code",
   "execution_count": null,
   "metadata": {},
   "outputs": [],
   "source": [
    "esignal_date_format = '%Y-%m-%d'\n",
    "esignal_charts_path = ''\n",
    "\n",
    "def main():\n",
    "    startDate = ''\n",
    "    dt_startDate = dt.strpdate\n",
    "    endDate = ''\n",
    "    dt_endDate\n",
    "    login = ''\n",
    "    password = ''\n",
    "    if dt.timedelta > 7:\n",
    "        dt_startDates = [dt_startDate]\n",
    "        dt_endDates = [dt_startDate + dt.timedelta(days=6)]\n",
    "        \n",
    "        while dt_startDates[-1] + dt.timedelta(days=7) <= dt_endDate:\n",
    "            dt_startDates.append(dt_startDates[-1] + dt.timedelta(days=7))\n",
    "            \n",
    "            if dt_startDates[-1] + dt.timedelta(days=6) <= dt_endDate:\n",
    "                dt_endDates.append(dt_startDates[-1] + dt.timedelta(days=6))\n",
    "            \n",
    "            else:\n",
    "                dt_endDates.append(dt_endDate)\n",
    "            \n",
    "    for start, end in zip(dt_startDates, dt_endDates):\n",
    "        saver(start, end)\n",
    "        \n",
    "    # проверить, есть ли данный график в скачанных экселях, если нет, то скачать\n",
    "    "
   ]
  }
 ],
 "metadata": {
  "kernelspec": {
   "display_name": "Python 3",
   "language": "python",
   "name": "python3"
  },
  "language_info": {
   "codemirror_mode": {
    "name": "ipython",
    "version": 3
   },
   "file_extension": ".py",
   "mimetype": "text/x-python",
   "name": "python",
   "nbconvert_exporter": "python",
   "pygments_lexer": "ipython3",
   "version": "3.6.5"
  }
 },
 "nbformat": 4,
 "nbformat_minor": 2
}
