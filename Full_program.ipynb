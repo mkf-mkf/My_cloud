{
 "cells": [
  {
   "cell_type": "markdown",
   "metadata": {},
   "source": [
    "Скачать статистику\n",
    "распарсить ее\n",
    "определить, есть ли график данного тикера и спайдера. если нет, то скачать\n",
    "создать графики и дневник\n",
    "(https://stackoverflow.com/questions/20219254/how-to-write-to-an-existing-excel-file-without-overwriting-data-using-pandas)\n"
   ]
  },
  {
   "cell_type": "code",
   "execution_count": null,
   "metadata": {},
   "outputs": [],
   "source": [
    "import saver\n",
    "import tradestochart as ttc\n"
   ]
  },
  {
   "cell_type": "code",
   "execution_count": null,
   "metadata": {},
   "outputs": [],
   "source": [
    "def main():\n",
    "    startDate = ''\n",
    "    dt_startDate = dt.strpdate\n",
    "    endDate = ''\n",
    "    dt_endDate\n",
    "    login = ''\n",
    "    password = ''\n",
    "    if dt.timedelta > 7:\n",
    "        dt_startDates = [dt_startDate]\n",
    "        dt_endDates = [dt_startDate + dt.timedelta(days=6)]\n",
    "        \n",
    "        while dt_startDates[-1] + dt.timedelta(days=7) <= dt_endDate:\n",
    "            dt_startDates.append(dt_startDates[-1] + dt.timedelta(days=7))\n",
    "            \n",
    "            if dt_startDates[-1] + dt.timedelta(days=6) <= dt_endDate:\n",
    "                dt_endDates.append(dt_startDates[-1] + dt.timedelta(days=6))\n",
    "            \n",
    "            else:\n",
    "                dt_endDates.append(dt_endDate)\n",
    "            \n",
    "    for start, end in zip(dt_startDates, dt_endDates):\n",
    "        saver(start, end)"
   ]
  }
 ],
 "metadata": {
  "kernelspec": {
   "display_name": "Python 3",
   "language": "python",
   "name": "python3"
  },
  "language_info": {
   "codemirror_mode": {
    "name": "ipython",
    "version": 3
   },
   "file_extension": ".py",
   "mimetype": "text/x-python",
   "name": "python",
   "nbconvert_exporter": "python",
   "pygments_lexer": "ipython3",
   "version": "3.6.5"
  }
 },
 "nbformat": 4,
 "nbformat_minor": 2
}
