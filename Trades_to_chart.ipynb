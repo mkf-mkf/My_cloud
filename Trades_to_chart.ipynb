{
 "cells": [
  {
   "cell_type": "markdown",
   "metadata": {},
   "source": [
    "Trades\n",
    "+ Адрес хранилища данных: points\n",
    "Получение данных\n",
    "Адрес хранилища данных: данные\n",
    "+ download data\n",
    "+ read file\n",
    "Получение словаря датафремов трейдов\n",
    "+ Данные: словарь датафреймов\n",
    "+ method(type): type\n",
    "Преобразования к таймфрему оси чарта\n",
    "+ Датафрейм: Агрегированный датафрейм по таймфрему\n",
    "+ Агрегация экзекьюшинов с разницей времени < 5s\n",
    "+ Агрегация по таймфреймам\n",
    "Рисование экзекьюшина на чарте\n",
    "+ Dataframe: chart\n",
    "+ plotly\n",
    "главная программа\n",
    "\"Перенесение трейдов на график\"\n",
    "главная программа(передаем источник трейдов, источник таблиц для графиков, дата=последний рабочий день):\n",
    "    обработка трейдов(источник трейдов, дата):\n",
    "    датафрейм графика = обработка источника таблиц графика(источник таблиц графиков, дата=последний рабочий день)\n",
    "    датафрейм трейдов = обработка источника хранилища (источник трейдов)\n",
    "    рисуем график стака с точками входа(датафрейм графика, датафрейм трейдов)\n",
    "Рисование чарта\n",
    "Рисование трейдов\n",
    "Candlestick\n",
    "Хранилище данных: chart object\n",
    "подготовка данных для графика\n",
    "+ адрес хранилища данных: строка\n",
    "Получение данных\n",
    "+ адресс файла (строка): содержимое файла\n",
    "+ чтение данных\n",
    "Подготовка датафрейма\n",
    "Объект данных: строка\n",
    "+ csv to Dataframe\n",
    "+ Convert Data\n",
    "+ Prepare columns\n",
    "Выбор времени\n",
    "Датафрейм : рабочий датафрейм\n",
    "+ обрезаем датафрейм до нужных данных\n",
    "Получение таймфрейма\n",
    "+ Dataframe : Dataframe\n",
    "+ трансформация датафрейма \n",
    "   в нужный таймфрейм\n",
    "Plotting\n",
    "+ Dataframe: Plott\n",
    "ploly candlestick\n",
    "Чарт\n"
   ]
  },
  {
   "cell_type": "markdown",
   "metadata": {},
   "source": [
    "деф главная программа(передаем источник трейдов, источник таблиц для графиков, дата=последний рабочий день):\n",
    "    обработка трейдов(источник трейдов, дата):\n",
    "    датафрейм графика = обработка источника таблиц графика(источник таблиц графиков, дата=последний рабочий день)\n",
    "    датафрейм трейдов = обработка источника хранилища (источник трейдов)\n",
    "    рисуем график стака с точками входа(датафрейм графика, датафрейм трейдов)"
   ]
  },
  {
   "cell_type": "code",
   "execution_count": 1,
   "metadata": {
    "ExecuteTime": {
     "end_time": "2018-11-11T18:46:36.316953Z",
     "start_time": "2018-11-11T18:46:24.253263Z"
    }
   },
   "outputs": [],
   "source": [
    "import pandas as pd\n",
    "import re\n",
    "import plotly\n",
    "import plotly.plotly as py\n",
    "import plotly.graph_objs as go\n",
    "import datetime as dt\n",
    "import win32com.client\n",
    "\n",
    "#plotly.tools.set_credentials_file(username='mkf', api_key='crwJntc1jJsAdaHKiDPL')"
   ]
  },
  {
   "cell_type": "code",
   "execution_count": 2,
   "metadata": {},
   "outputs": [
    {
     "data": {
      "text/html": [
       "<script type=\"text/javascript\">window.PlotlyConfig = {MathJaxConfig: 'local'};</script><script type=\"text/javascript\">if (window.MathJax) {MathJax.Hub.Config({SVG: {font: \"STIX-Web\"}});}</script><script>requirejs.config({paths: { 'plotly': ['https://cdn.plot.ly/plotly-latest.min']},});if(!window._Plotly) {require(['plotly'],function(plotly) {window._Plotly=plotly;});}</script>"
      ],
      "text/vnd.plotly.v1+html": [
       "<script type=\"text/javascript\">window.PlotlyConfig = {MathJaxConfig: 'local'};</script><script type=\"text/javascript\">if (window.MathJax) {MathJax.Hub.Config({SVG: {font: \"STIX-Web\"}});}</script><script>requirejs.config({paths: { 'plotly': ['https://cdn.plot.ly/plotly-latest.min']},});if(!window._Plotly) {require(['plotly'],function(plotly) {window._Plotly=plotly;});}</script>"
      ]
     },
     "metadata": {},
     "output_type": "display_data"
    }
   ],
   "source": [
    "from plotly.offline import download_plotlyjs, init_notebook_mode, plot, iplot\n",
    "from plotly import tools\n",
    "init_notebook_mode(connected=True)"
   ]
  },
  {
   "cell_type": "code",
   "execution_count": 3,
   "metadata": {
    "ExecuteTime": {
     "end_time": "2018-11-11T18:46:37.948046Z",
     "start_time": "2018-11-11T18:46:37.932045Z"
    }
   },
   "outputs": [],
   "source": [
    "def fix_excel(trades_file):\n",
    "    import win32com.client\n",
    "\n",
    "    xl=win32com.client.Dispatch(\"Excel.Application\")\n",
    "    xl.Application.DisplayAlerts = False # disables Excel pop up message (for saving the file)\n",
    "    wb = xl.Workbooks.Open(Filename=file_excel)\n",
    "    wb.SaveAs(file_excel)\n",
    "    wb.Close\n",
    "    xl.Application.DisplayAlerts = True"
   ]
  },
  {
   "cell_type": "code",
   "execution_count": 4,
   "metadata": {
    "ExecuteTime": {
     "end_time": "2018-11-11T18:46:54.906016Z",
     "start_time": "2018-11-11T18:46:54.882014Z"
    }
   },
   "outputs": [],
   "source": [
    "def open_excel(path):\n",
    "    try:\n",
    "        open_file = pd.read_excel(path, encoding='utf-16', header=None)\n",
    "    except CompDocError:\n",
    "        fix_excel(path)\n",
    "        open_file = pd.read_excel(path, encoding='utf-16', header=None)\n",
    "    return open_file"
   ]
  },
  {
   "cell_type": "code",
   "execution_count": 5,
   "metadata": {
    "ExecuteTime": {
     "end_time": "2018-11-11T18:46:56.547110Z",
     "start_time": "2018-11-11T18:46:56.481106Z"
    }
   },
   "outputs": [],
   "source": [
    "def normalise_formats(storage_of_executions):\n",
    "    important_columns = ['Order Id', 'Time', 'B/S', 'Qty', 'Price', 'Gross', 'Net', 'Route']\n",
    "    copy_storage_of_executions = storage_of_executions.copy()\n",
    "    for date, tickers in storage_of_executions.items():\n",
    "        for ticker, executions in tickers.items():\n",
    "            new_df = executions[important_columns]\n",
    "            new_df.rename(columns={'B/S':'B_S', 'Order Id': 'Order_Id'}, inplace=True)\n",
    "            new_df.insert(0, 'Date_Time', pd.to_datetime((date + ' ' + new_df['Time']), dayfirst=False))\n",
    "            new_df.insert(1, 'Ticker', ticker)\n",
    "            new_df['BP_Used'] = new_df['Price'] * new_df['Qty']\n",
    "            new_df['Qty'] = new_df.apply(lambda x: x['Qty'] if new_df['B_S'][x.name] in ['B', 'C'] else -x['Qty'], axis=1)\n",
    "            #new_df.insert(6, 'Pos_Size', new_df['Qty'].cumsum())\n",
    "            new_df.reset_index(inplace=True)\n",
    "            copy_storage_of_executions[date][ticker] = group_by_order_final(new_df)\n",
    "    return copy_storage_of_executions"
   ]
  },
  {
   "cell_type": "code",
   "execution_count": null,
   "metadata": {},
   "outputs": [],
   "source": []
  },
  {
   "cell_type": "code",
   "execution_count": 6,
   "metadata": {
    "ExecuteTime": {
     "end_time": "2018-11-11T22:10:42.937252Z",
     "start_time": "2018-11-11T22:10:42.882249Z"
    }
   },
   "outputs": [],
   "source": [
    "def group_by_order(executions):\n",
    "    round_sum = lambda x: round(sum(x), 2)\n",
    "    int_sum = lambda x: int(sum(x))\n",
    "    executions_by_order = executions.groupby('Order_Id').agg(({'index': 'first', 'Ticker' : 'first','Time' : 'first', \n",
    "                                                               'Date_Time' : 'first', 'B_S' : 'first', 'Qty' : sum,\n",
    "                                                               'Gross' : round_sum, 'Net' : round_sum, 'Route' : 'first',\n",
    "                                                               'BP_Used': 'sum'}))\n",
    "    \n",
    "    executions_by_order['Price'] = abs(round(executions_by_order['BP_Used'] / executions_by_order['Qty'], 3))\n",
    "    return executions_by_order"
   ]
  },
  {
   "cell_type": "code",
   "execution_count": 7,
   "metadata": {},
   "outputs": [],
   "source": [
    "def group_by_order_final(execution):\n",
    "    ''' нужен для того, чтоб ордера работали в порядке исполнения, а не только по номеру'''\n",
    "    new_group_by_orger = group_by_order(pd.DataFrame(columns=execution.columns))\n",
    "    one_group = pd.DataFrame(columns=execution.columns)\n",
    "    for i in range(len(execution)):\n",
    "        if one_group.empty:\n",
    "            one_group = one_group.append(execution.iloc[i, :])\n",
    "        \n",
    "        else:\n",
    "            if execution.iloc[i]['Order_Id'] == one_group.iloc[-1]['Order_Id']:\n",
    "                one_group = one_group.append(execution.iloc[i])\n",
    "\n",
    "            else:\n",
    "                new_group_by_orger = new_group_by_orger.append(group_by_order(one_group))\n",
    "                #one_group = pd.DataFrame(columns=execution.columns)\n",
    "                one_group = pd.DataFrame([execution.iloc[i]])\n",
    "                    \n",
    "    \n",
    "    new_group_by_orger = new_group_by_orger.append(group_by_order(one_group))\n",
    "    new_group_by_orger.insert(6, 'Pos_Size', new_group_by_orger['Qty'].cumsum().apply(int))\n",
    "    return new_group_by_orger\n",
    "        "
   ]
  },
  {
   "cell_type": "code",
   "execution_count": 8,
   "metadata": {
    "ExecuteTime": {
     "end_time": "2018-11-11T18:47:07.228721Z",
     "start_time": "2018-11-11T18:47:07.098713Z"
    }
   },
   "outputs": [],
   "source": [
    "def preprocessing_trades(storage_of_executions):\n",
    "    file_parsing = {}\n",
    "    excel_df = storage_of_executions\n",
    "    reindex = {a : b for a, b in zip(range(22), excel_df.iloc[2, :])}\n",
    "    excel_df = excel_df.rename(columns=reindex)\n",
    "    for i in range(len(excel_df)):\n",
    "        if pd.notna(excel_df.iloc[i][0]):\n",
    "            if re.match(r'\\d{1,2}/\\d{1,2}/\\d{4}', excel_df.iloc[i][0]):\n",
    "                date = excel_df.iloc[i][0]\n",
    "                file_parsing[date] = {}\n",
    "                continue\n",
    "\n",
    "            elif re.match(r'^([\\w/]+)\\s{1,2}-\\s.*', excel_df.iloc[i][0]):\n",
    "                ticker = re.match(r'^([\\w/]+)\\s{1,2}-\\s.*', excel_df.iloc[i][0])[1]\n",
    "                file_parsing[date][ticker] = pd.DataFrame()\n",
    "                continue\n",
    "\n",
    "            elif excel_df.iloc[i][0] == 'Time':\n",
    "\n",
    "                file_parsing[date][ticker].reindex(columns=excel_df.iloc[i])\n",
    "                columns = excel_df.iloc[i]\n",
    "                continue\n",
    "\n",
    "            elif re.match(r'\\d\\d:\\d\\d:\\d\\d', excel_df.iloc[i][0]):\n",
    "                file_parsing[date][ticker] = file_parsing[date][ticker].append(excel_df.iloc[i, :])\n",
    "    date_ticker_exec = normalise_formats(file_parsing)\n",
    "    return date_ticker_exec"
   ]
  },
  {
   "cell_type": "code",
   "execution_count": 10,
   "metadata": {
    "ExecuteTime": {
     "end_time": "2018-11-11T22:24:50.524731Z",
     "start_time": "2018-11-11T22:24:50.507730Z"
    }
   },
   "outputs": [],
   "source": [
    "def create_chart_df(chart_file):\n",
    "    chart_df = pd.read_csv(chart_file, sep=';', decimal=',', header=0)\n",
    "    chart_df[['Open', 'High', 'Low', 'Close', 'PC', 'Vol']] = chart_df[['Open', 'High', 'Low', 'Close', 'PC', 'Vol']].apply(lambda x:  round(x, 2))\n",
    "    chart_df.insert(0, 'Date_Time', pd.to_datetime((chart_df['Date'] + ' ' + chart_df['Time']), dayfirst=True))\n",
    "    return chart_df"
   ]
  },
  {
   "cell_type": "code",
   "execution_count": 131,
   "metadata": {},
   "outputs": [],
   "source": [
    "def resampler(df):\n",
    "    return df.resample('5T').apply({'Open': 'first', 'High' : 'max', 'Low':'min', 'Close':'last'})"
   ]
  },
  {
   "cell_type": "code",
   "execution_count": 255,
   "metadata": {},
   "outputs": [],
   "source": [
    "def gap(needed_chart):\n",
    "    open_candle = needed_chart.loc[needed_chart.Date_Time.apply(lambda x: x.time()) == dt.time(9, 30)]\n",
    "    string = ''\n",
    "    gap_ser = round((open_candle.Open - open_candle.PC) / open_candle.PC * 100, 1)\n",
    "    for i in gap_ser:\n",
    "        string += str(i)\n",
    "    return string"
   ]
  },
  {
   "cell_type": "code",
   "execution_count": 265,
   "metadata": {
    "ExecuteTime": {
     "end_time": "2018-11-11T22:33:43.551219Z",
     "start_time": "2018-11-11T22:33:41.174083Z"
    },
    "scrolled": true
   },
   "outputs": [],
   "source": [
    "def make_main_chart(needed_chart, drawing_trades, spy_chart):\n",
    "    buy_executions = drawing_trades.loc[drawing_trades['B_S'].isin(['B', 'C'])]\n",
    "    sell_executions = drawing_trades.loc[drawing_trades['B_S'].isin(['S', 'T'])]\n",
    "    chart_1m = go.Candlestick(x=needed_chart.Date_Time,\n",
    "                           open=needed_chart.Open,\n",
    "                           high=needed_chart.High,\n",
    "                           low=needed_chart.Low,\n",
    "                           close=needed_chart.Close,\n",
    "                          name=f\"{buy_executions.Ticker[0]}_1m\", \n",
    "                          decreasing = {\"fillcolor\": \"rgb(227, 14, 0)\", \n",
    "                                        \"line\": {\n",
    "                                          \"color\": \"rgb(8, 7, 7)\", \n",
    "                                          \"width\": 1}},\n",
    "                          increasing = {\"fillcolor\": \"rgb(68, 171, 42)\", \n",
    "                                        \"line\": {\n",
    "                                          \"color\": \"rgb(5, 10, 8)\", \n",
    "                                          \"width\": 1}},\n",
    "                          hoverinfo=\"x+y\")\n",
    "    chart_resampled_to5m = resampler(needed_chart.set_index('Date_Time'))\n",
    "    chart_5m = go.Candlestick(x=chart_resampled_to5m.index,\n",
    "                           open=chart_resampled_to5m.Open,\n",
    "                           high=chart_resampled_to5m.High,\n",
    "                           low=chart_resampled_to5m.Low,\n",
    "                           close=chart_resampled_to5m.Close,\n",
    "                          name=f\"{buy_executions.Ticker[0]}_5m\", \n",
    "                          decreasing = {\"fillcolor\": \"rgb(227, 14, 0)\", \n",
    "                                        \"line\": {\n",
    "                                          \"color\": \"rgb(8, 7, 7)\", \n",
    "                                          \"width\": 1}},\n",
    "                          increasing = {\"fillcolor\": \"rgb(68, 171, 42)\", \n",
    "                                        \"line\": {\n",
    "                                          \"color\": \"rgb(5, 10, 8)\", \n",
    "                                          \"width\": 1}},\n",
    "                          hoverinfo=\"x+y\", visible=\"legendonly\", yaxis='y')\n",
    "    \n",
    "    spy_chart_candlestick = go.Candlestick(x=spy_chart.Date_Time,\n",
    "                           open=spy_chart.Open,\n",
    "                           high=spy_chart.High,\n",
    "                           low=spy_chart.Low,\n",
    "                           close=spy_chart.Close,\n",
    "                          name='SPY', \n",
    "                          decreasing = {\"fillcolor\": \"rgb(227, 14, 0)\", \n",
    "                                        \"line\": {\n",
    "                                          \"color\": \"rgb(8, 7, 7)\", \n",
    "                                          \"width\": 1}},\n",
    "                          increasing = {\"fillcolor\": \"rgb(68, 171, 42)\", \n",
    "                                        \"line\": {\n",
    "                                          \"color\": \"rgb(5, 10, 8)\", \n",
    "                                          \"width\": 1}},\n",
    "                          hoverinfo=\"x+y\", xaxis='x', yaxis='y3')\n",
    "    \n",
    "    #spy_line = go.Line(x=spy_chart.Date_Time, y=spy_chart.Close, name=\"SPY_line\", xaxis='x', yaxis='y4')\n",
    "    \n",
    "    text_lambda = lambda x: [f'{i.B_S}: {int(i.Qty)}, Pos_Size: {i.Pos_Size}' for i in x.itertuples()]\n",
    "    \n",
    "    buy_trace = go.Scatter(x=buy_executions.Date_Time, y=buy_executions.Price, mode='markers', name='Buy', \n",
    "                           marker = {\"color\": \"rgb(103, 228, 97)\", \n",
    "                                     \"line\": {\"width\": 1}, \n",
    "                                     \"size\": 8},\n",
    "                           text=text_lambda(buy_executions),\n",
    "                           hoverinfo=\"y+text\")\n",
    "    \n",
    "    sell_trace = go.Scatter(x=sell_executions.Date_Time, y=sell_executions.Price, mode='markers', name='Sell',\n",
    "                            marker={\n",
    "                                   \"color\": \"rgb(235, 180, 12)\", \n",
    "                                   \"line\": {\"width\": 1}, \n",
    "                                   \"size\": 8}, \n",
    "                            yaxis= \"y\",\n",
    "                            text=text_lambda(sell_executions),\n",
    "                            hoverinfo=\"y+text\")\n",
    "    \n",
    "    PH = go.Scatter(x=needed_chart.Date_Time, y=needed_chart.PH, name='PH',\n",
    "                    line={\"color\": \"rgb(0, 147, 0)\", \"dash\": \"dot\", \"shape\": \"linear\", \"width\": 2},\n",
    "                    hoverinfo='none')\n",
    "    \n",
    "    PL = go.Scatter(x=needed_chart.Date_Time, y=needed_chart.PL, name='PL', \n",
    "                    line={\"color\": \"rgb(189, 103, 117)\", \"dash\": \"dot\"},\n",
    "                    yaxis= \"y\", hoverinfo='none')\n",
    "    \n",
    "    PC = go.Scatter(x=needed_chart.Date_Time, y=needed_chart.PC, name='PC', \n",
    "                    line={\"color\": \"rgb(120, 75, 140)\", \"dash\": \"dash\"},\n",
    "                    yaxis= \"y\", hoverinfo='none')\n",
    "    \n",
    "    Vol = dict(x=needed_chart.Date_Time, y=needed_chart.Vol, type='bar', yaxis='y2',\n",
    "               marker= {\"color\": \"rgb(119, 123, 227)\"}, name='Vol')\n",
    "    \n",
    "    open_time_marker = needed_chart.loc[needed_chart.Date_Time.apply(\n",
    "        lambda x: x.time()) == dt.time(9, 30), \"Date_Time\"]\n",
    "    \n",
    "    close_time_marker = needed_chart.loc[needed_chart.Date_Time.apply(\n",
    "        lambda x: x.time()) == dt.time(16, 0), \"Date_Time\"]\n",
    "    \n",
    "    y_coordinates_open_close_lines = [min(needed_chart.Low.min(), needed_chart.PL.min()),\n",
    "                                      max(needed_chart.High.max(), needed_chart.PH.max())]\n",
    "    \n",
    "    open_time_line = go.Line(x=[open_time_marker, open_time_marker],\n",
    "                                y=y_coordinates_open_close_lines, xaxis=\"x\", yaxis='y')\n",
    "    \n",
    "    data = [chart_1m, buy_trace, sell_trace, PH, PL, PC, Vol, spy_chart_candlestick, chart_5m]#, open_time_line]\n",
    "    \n",
    "    layout = {\n",
    "      'title': f'{gap(needed_chart)}%   {needed_chart.Date_Time.iloc[0].strftime(\"%Y-%m-%d\")}\\\n",
    "      {drawing_trades.Ticker[0]}\\\n",
    "   Gross: {drawing_trades.Gross.sum()}   Vol: {int(drawing_trades.Qty.apply(abs).sum())}   Net: {drawing_trades.Net.sum()}',\n",
    "      \"autosize\": True, \n",
    "      \"bargap\": 0.54, \n",
    "      \"xaxis\": {\n",
    "        \"anchor\": \"y2\", \n",
    "        \"autorange\": True, \n",
    "        \"domain\": [0, 1], \n",
    "        \"range\": [\"2018-08-06 05:17:30\", \"2018-08-06 19:47:30\"], \n",
    "        \"rangeslider\": {\n",
    "          \"autorange\": True, \n",
    "            \"visible\": False,\n",
    "          #\"range\": [\"2018-08-06 06:00:00\", \"2018-08-06 16:20:00\"],\n",
    "          #\"range\": [\"2018-08-06 05:17:30\", \"2018-08-06 19:47:30\"], \n",
    "          #\"yaxis2\": {\"rangemode\": \"match\"}\n",
    "        }, \n",
    "        \"type\": \"date\"\n",
    "      },\n",
    "        \"xaxis3\":{\n",
    "            \"anchor\": \"y\", \n",
    "            \"autorange\": True, \n",
    "            \"domain\": [0, 0.49], \n",
    "            #\"range\": [\"2018-08-06 05:17:30\", \"2018-08-06 19:47:30\"], \n",
    "            \"rangeslider\": {\n",
    "                \"visible\" : False,\n",
    "                \"autorange\": True, \n",
    "              #\"range\": [\"2018-08-06 05:17:30\", \"2018-08-06 19:47:30\"], \n",
    "        }\n",
    "      },     \n",
    "        \n",
    "      \"yaxis\": {\n",
    "        \"anchor\": \"free\", \n",
    "        \"autorange\": True, \n",
    "        \"domain\": [0.17, 0.7], \n",
    "        #\"overlaying\": False, \n",
    "        \"position\": 0, \n",
    "        \"range\": [18.02, 23.62], \n",
    "        \"type\": \"linear\"\n",
    "      }, \n",
    "      \"yaxis2\": {\n",
    "        \"anchor\": \"x\", \n",
    "        \"autorange\": True, \n",
    "        \"domain\": [0, 0.16], \n",
    "        \"range\": [0, 254736.842105], \n",
    "        \"type\": \"linear\"\n",
    "      },\n",
    "        \"yaxis3\": {\n",
    "        \"anchor\": \"x\", \n",
    "        \"autorange\": True, \n",
    "        \"domain\": [0.71, 1], \n",
    "        #\"range\": [0, 254736.842105], \n",
    "        \"type\": \"linear\"\n",
    "      },\n",
    "        \"yaxis4\": {\n",
    "        \"anchor\": \"free\", \n",
    "        \"autorange\": True, \n",
    "        \"domain\": [0.17, 0.8], \n",
    "        #\"overlaying\": False, \n",
    "        \"position\": 0, \n",
    "        #\"range\": [18.02, 23.62], \n",
    "        \"type\": \"linear\",\n",
    "            \"layer\": \"below traces\",\n",
    "            \"side\": \"right\"\n",
    "       },\n",
    "         'shapes': [*[\n",
    "        {\n",
    "            'type': 'line',\n",
    "            # x-reference is assigned to the x-values\n",
    "            'xref': 'x',\n",
    "            # y-reference is assigned to the plot paper [0,1]\n",
    "            #'yref': 'paper',\n",
    "            'x0': open_time_marker.iloc[i],\n",
    "            'y0': y_coordinates_open_close_lines[0],\n",
    "            'x1': open_time_marker.iloc[i],\n",
    "            'y1': y_coordinates_open_close_lines[1],\n",
    "            #'fillcolor': '#d3d3d3',\n",
    "            'opacity': 0.2,\n",
    "            'line': {\n",
    "                'width' : 1,\n",
    "                'dash' : 'dot'\n",
    "            }\n",
    "        } for i in range(len(open_time_marker))\n",
    "       ],\n",
    "        *[{\n",
    "            'type': 'line',\n",
    "            # x-reference is assigned to the x-values\n",
    "            'xref': 'x',\n",
    "            # y-reference is assigned to the plot paper [0,1]\n",
    "            #'yref': 'paper',\n",
    "            'x0': close_time_marker.iloc[i],\n",
    "            'y0': y_coordinates_open_close_lines[0],\n",
    "            'x1': close_time_marker.iloc[i],\n",
    "            'y1': y_coordinates_open_close_lines[1],\n",
    "            #'fillcolor': '#d3d3d3',\n",
    "            'opacity': 0.2,\n",
    "            'line': {\n",
    "                'width' : 1,\n",
    "                'dash' : 'dot'\n",
    "            }\n",
    "        } for i in range(len(open_time_marker))\n",
    "        ]\n",
    "                   ]\n",
    "    }\n",
    "    \n",
    "    plot(dict(data=data, layout=layout), filename=f'{buy_executions.Ticker[0]}_1m.html')"
   ]
  },
  {
   "cell_type": "code",
   "execution_count": 267,
   "metadata": {},
   "outputs": [
    {
     "name": "stderr",
     "output_type": "stream",
     "text": [
      "E:\\Program Files (x86)\\Microsoft Visual Studio\\Shared\\Anaconda3_64\\lib\\site-packages\\plotly\\graph_objs\\_deprecations.py:372: DeprecationWarning:\n",
      "\n",
      "plotly.graph_objs.Line is deprecated.\n",
      "Please replace it with one of the following more specific types\n",
      "  - plotly.graph_objs.scatter.Line\n",
      "  - plotly.graph_objs.layout.shape.Line\n",
      "  - etc.\n",
      "\n",
      "\n"
     ]
    }
   ],
   "source": [
    "make_main_chart(needed_chart, drawing_trades, spy_needed_chart)"
   ]
  },
  {
   "cell_type": "code",
   "execution_count": 28,
   "metadata": {
    "ExecuteTime": {
     "end_time": "2018-11-11T18:47:30.825070Z",
     "start_time": "2018-11-11T18:47:30.816070Z"
    }
   },
   "outputs": [],
   "source": [
    "trades_file = r'C:/Users/User/Downloads/07060212-2018-08-06-to-2018-08-09-detailed.xls'\n",
    "chart_file = r'C:\\Users\\User\\Documents\\ARLO_06.08.18.csv'\n",
    "spy_file = r'C:\\Users\\User\\Documents\\SPY_example.csv'\n",
    "\n",
    "#trades_file = r'C:\\Users\\Kir\\Documents\\07060212-2018-08-06-to-2018-08-09-detailed.xlsx'\n",
    "#chart_file = r'C:\\Users\\User\\Documents\\Old_comp\\Chart 2016-07-16-09-54.csv'"
   ]
  },
  {
   "cell_type": "code",
   "execution_count": 14,
   "metadata": {
    "ExecuteTime": {
     "end_time": "2018-11-11T22:11:48.608008Z",
     "start_time": "2018-11-11T22:11:26.424739Z"
    }
   },
   "outputs": [
    {
     "name": "stderr",
     "output_type": "stream",
     "text": [
      "E:\\Program Files (x86)\\Microsoft Visual Studio\\Shared\\Anaconda3_64\\lib\\site-packages\\pandas\\core\\frame.py:3778: SettingWithCopyWarning:\n",
      "\n",
      "\n",
      "A value is trying to be set on a copy of a slice from a DataFrame\n",
      "\n",
      "See the caveats in the documentation: http://pandas.pydata.org/pandas-docs/stable/indexing.html#indexing-view-versus-copy\n",
      "\n",
      "E:\\Program Files (x86)\\Microsoft Visual Studio\\Shared\\Anaconda3_64\\lib\\site-packages\\ipykernel_launcher.py:10: SettingWithCopyWarning:\n",
      "\n",
      "\n",
      "A value is trying to be set on a copy of a slice from a DataFrame.\n",
      "Try using .loc[row_indexer,col_indexer] = value instead\n",
      "\n",
      "See the caveats in the documentation: http://pandas.pydata.org/pandas-docs/stable/indexing.html#indexing-view-versus-copy\n",
      "\n",
      "E:\\Program Files (x86)\\Microsoft Visual Studio\\Shared\\Anaconda3_64\\lib\\site-packages\\ipykernel_launcher.py:11: SettingWithCopyWarning:\n",
      "\n",
      "\n",
      "A value is trying to be set on a copy of a slice from a DataFrame.\n",
      "Try using .loc[row_indexer,col_indexer] = value instead\n",
      "\n",
      "See the caveats in the documentation: http://pandas.pydata.org/pandas-docs/stable/indexing.html#indexing-view-versus-copy\n",
      "\n"
     ]
    },
    {
     "name": "stdout",
     "output_type": "stream",
     "text": [
      "Wall time: 9.1 s\n"
     ]
    }
   ],
   "source": [
    "%%time\n",
    "date = '8/6/2018'\n",
    "ticker = 'ARLO'\n",
    "\n",
    "#trades_file = r'C:/Users/User/Downloads/07060212-2018-08-06-to-2018-08-09-detailed.xls'\n",
    "#chart_file = r'C:\\Users\\User\\Documents\\Old_comp\\Chart 2016-07-16-09-54.csv'\n",
    "\n",
    "opened_file = open_excel(trades_file)\n",
    "date_tickers_exec = preprocessing_trades(opened_file)"
   ]
  },
  {
   "cell_type": "code",
   "execution_count": 15,
   "metadata": {
    "ExecuteTime": {
     "end_time": "2018-11-11T22:11:59.611638Z",
     "start_time": "2018-11-11T22:11:59.598637Z"
    }
   },
   "outputs": [
    {
     "data": {
      "text/html": [
       "<div>\n",
       "<style scoped>\n",
       "    .dataframe tbody tr th:only-of-type {\n",
       "        vertical-align: middle;\n",
       "    }\n",
       "\n",
       "    .dataframe tbody tr th {\n",
       "        vertical-align: top;\n",
       "    }\n",
       "\n",
       "    .dataframe thead th {\n",
       "        text-align: right;\n",
       "    }\n",
       "</style>\n",
       "<table border=\"1\" class=\"dataframe\">\n",
       "  <thead>\n",
       "    <tr style=\"text-align: right;\">\n",
       "      <th></th>\n",
       "      <th>index</th>\n",
       "      <th>Ticker</th>\n",
       "      <th>Time</th>\n",
       "      <th>Date_Time</th>\n",
       "      <th>B_S</th>\n",
       "      <th>Qty</th>\n",
       "      <th>Gross</th>\n",
       "      <th>Net</th>\n",
       "      <th>Route</th>\n",
       "      <th>BP_Used</th>\n",
       "      <th>Price</th>\n",
       "    </tr>\n",
       "    <tr>\n",
       "      <th>Order_Id</th>\n",
       "      <th></th>\n",
       "      <th></th>\n",
       "      <th></th>\n",
       "      <th></th>\n",
       "      <th></th>\n",
       "      <th></th>\n",
       "      <th></th>\n",
       "      <th></th>\n",
       "      <th></th>\n",
       "      <th></th>\n",
       "      <th></th>\n",
       "    </tr>\n",
       "  </thead>\n",
       "  <tbody>\n",
       "    <tr>\n",
       "      <th>121819</th>\n",
       "      <td>3</td>\n",
       "      <td>ARLO</td>\n",
       "      <td>09:22:20</td>\n",
       "      <td>2018-08-06 09:22:20</td>\n",
       "      <td>B</td>\n",
       "      <td>200.0</td>\n",
       "      <td>0.00</td>\n",
       "      <td>-1.48</td>\n",
       "      <td>CROX</td>\n",
       "      <td>4505.76</td>\n",
       "      <td>22.529</td>\n",
       "    </tr>\n",
       "    <tr>\n",
       "      <th>123167</th>\n",
       "      <td>5</td>\n",
       "      <td>ARLO</td>\n",
       "      <td>09:24:03</td>\n",
       "      <td>2018-08-06 09:24:03</td>\n",
       "      <td>B</td>\n",
       "      <td>100.0</td>\n",
       "      <td>0.00</td>\n",
       "      <td>-0.76</td>\n",
       "      <td>ARCA</td>\n",
       "      <td>2231.00</td>\n",
       "      <td>22.310</td>\n",
       "    </tr>\n",
       "    <tr>\n",
       "      <th>128583</th>\n",
       "      <td>6</td>\n",
       "      <td>ARLO</td>\n",
       "      <td>09:31:18</td>\n",
       "      <td>2018-08-06 09:31:18</td>\n",
       "      <td>B</td>\n",
       "      <td>100.0</td>\n",
       "      <td>0.00</td>\n",
       "      <td>-0.56</td>\n",
       "      <td>NYSE</td>\n",
       "      <td>2155.00</td>\n",
       "      <td>21.550</td>\n",
       "    </tr>\n",
       "    <tr>\n",
       "      <th>128682</th>\n",
       "      <td>8</td>\n",
       "      <td>ARLO</td>\n",
       "      <td>09:31:47</td>\n",
       "      <td>2018-08-06 09:31:47</td>\n",
       "      <td>S</td>\n",
       "      <td>-200.0</td>\n",
       "      <td>-209.00</td>\n",
       "      <td>-210.62</td>\n",
       "      <td>EDGX</td>\n",
       "      <td>4177.00</td>\n",
       "      <td>20.885</td>\n",
       "    </tr>\n",
       "    <tr>\n",
       "      <th>129324</th>\n",
       "      <td>7</td>\n",
       "      <td>ARLO</td>\n",
       "      <td>09:31:41</td>\n",
       "      <td>2018-08-06 09:31:41</td>\n",
       "      <td>S</td>\n",
       "      <td>-200.0</td>\n",
       "      <td>-233.76</td>\n",
       "      <td>-235.36</td>\n",
       "      <td>EDGX</td>\n",
       "      <td>4272.00</td>\n",
       "      <td>21.360</td>\n",
       "    </tr>\n",
       "    <tr>\n",
       "      <th>137504</th>\n",
       "      <td>10</td>\n",
       "      <td>ARLO</td>\n",
       "      <td>09:54:53</td>\n",
       "      <td>2018-08-06 09:54:53</td>\n",
       "      <td>S</td>\n",
       "      <td>-200.0</td>\n",
       "      <td>0.00</td>\n",
       "      <td>-1.60</td>\n",
       "      <td>ARCA</td>\n",
       "      <td>4158.00</td>\n",
       "      <td>20.790</td>\n",
       "    </tr>\n",
       "    <tr>\n",
       "      <th>138844</th>\n",
       "      <td>11</td>\n",
       "      <td>ARLO</td>\n",
       "      <td>10:01:10</td>\n",
       "      <td>2018-08-06 10:01:10</td>\n",
       "      <td>S</td>\n",
       "      <td>-100.0</td>\n",
       "      <td>0.00</td>\n",
       "      <td>-0.81</td>\n",
       "      <td>ARCA</td>\n",
       "      <td>2087.50</td>\n",
       "      <td>20.875</td>\n",
       "    </tr>\n",
       "    <tr>\n",
       "      <th>138963</th>\n",
       "      <td>12</td>\n",
       "      <td>ARLO</td>\n",
       "      <td>10:27:30</td>\n",
       "      <td>2018-08-06 10:27:30</td>\n",
       "      <td>B</td>\n",
       "      <td>300.0</td>\n",
       "      <td>-226.00</td>\n",
       "      <td>-228.27</td>\n",
       "      <td>EDGX</td>\n",
       "      <td>6471.50</td>\n",
       "      <td>21.572</td>\n",
       "    </tr>\n",
       "  </tbody>\n",
       "</table>\n",
       "</div>"
      ],
      "text/plain": [
       "          index Ticker      Time           Date_Time B_S    Qty   Gross  \\\n",
       "Order_Id                                                                  \n",
       "121819        3   ARLO  09:22:20 2018-08-06 09:22:20   B  200.0    0.00   \n",
       "123167        5   ARLO  09:24:03 2018-08-06 09:24:03   B  100.0    0.00   \n",
       "128583        6   ARLO  09:31:18 2018-08-06 09:31:18   B  100.0    0.00   \n",
       "128682        8   ARLO  09:31:47 2018-08-06 09:31:47   S -200.0 -209.00   \n",
       "129324        7   ARLO  09:31:41 2018-08-06 09:31:41   S -200.0 -233.76   \n",
       "137504       10   ARLO  09:54:53 2018-08-06 09:54:53   S -200.0    0.00   \n",
       "138844       11   ARLO  10:01:10 2018-08-06 10:01:10   S -100.0    0.00   \n",
       "138963       12   ARLO  10:27:30 2018-08-06 10:27:30   B  300.0 -226.00   \n",
       "\n",
       "             Net Route  BP_Used   Price  \n",
       "Order_Id                                 \n",
       "121819     -1.48  CROX  4505.76  22.529  \n",
       "123167     -0.76  ARCA  2231.00  22.310  \n",
       "128583     -0.56  NYSE  2155.00  21.550  \n",
       "128682   -210.62  EDGX  4177.00  20.885  \n",
       "129324   -235.36  EDGX  4272.00  21.360  \n",
       "137504     -1.60  ARCA  4158.00  20.790  \n",
       "138844     -0.81  ARCA  2087.50  20.875  \n",
       "138963   -228.27  EDGX  6471.50  21.572  "
      ]
     },
     "execution_count": 15,
     "metadata": {},
     "output_type": "execute_result"
    }
   ],
   "source": [
    "group_by_order(date_tickers_exec[date][ticker])"
   ]
  },
  {
   "cell_type": "code",
   "execution_count": 16,
   "metadata": {},
   "outputs": [
    {
     "data": {
      "text/html": [
       "<div>\n",
       "<style scoped>\n",
       "    .dataframe tbody tr th:only-of-type {\n",
       "        vertical-align: middle;\n",
       "    }\n",
       "\n",
       "    .dataframe tbody tr th {\n",
       "        vertical-align: top;\n",
       "    }\n",
       "\n",
       "    .dataframe thead th {\n",
       "        text-align: right;\n",
       "    }\n",
       "</style>\n",
       "<table border=\"1\" class=\"dataframe\">\n",
       "  <thead>\n",
       "    <tr style=\"text-align: right;\">\n",
       "      <th></th>\n",
       "      <th>index</th>\n",
       "      <th>Ticker</th>\n",
       "      <th>Time</th>\n",
       "      <th>Date_Time</th>\n",
       "      <th>B_S</th>\n",
       "      <th>Qty</th>\n",
       "      <th>Pos_Size</th>\n",
       "      <th>Gross</th>\n",
       "      <th>Net</th>\n",
       "      <th>Route</th>\n",
       "      <th>BP_Used</th>\n",
       "      <th>Price</th>\n",
       "    </tr>\n",
       "    <tr>\n",
       "      <th>Order_Id</th>\n",
       "      <th></th>\n",
       "      <th></th>\n",
       "      <th></th>\n",
       "      <th></th>\n",
       "      <th></th>\n",
       "      <th></th>\n",
       "      <th></th>\n",
       "      <th></th>\n",
       "      <th></th>\n",
       "      <th></th>\n",
       "      <th></th>\n",
       "      <th></th>\n",
       "    </tr>\n",
       "  </thead>\n",
       "  <tbody>\n",
       "    <tr>\n",
       "      <th>121819</th>\n",
       "      <td>3</td>\n",
       "      <td>ARLO</td>\n",
       "      <td>09:22:20</td>\n",
       "      <td>2018-08-06 09:22:20</td>\n",
       "      <td>B</td>\n",
       "      <td>200.0</td>\n",
       "      <td>200</td>\n",
       "      <td>0.00</td>\n",
       "      <td>-1.48</td>\n",
       "      <td>CROX</td>\n",
       "      <td>4505.76</td>\n",
       "      <td>22.529</td>\n",
       "    </tr>\n",
       "    <tr>\n",
       "      <th>123167</th>\n",
       "      <td>5</td>\n",
       "      <td>ARLO</td>\n",
       "      <td>09:24:03</td>\n",
       "      <td>2018-08-06 09:24:03</td>\n",
       "      <td>B</td>\n",
       "      <td>100.0</td>\n",
       "      <td>300</td>\n",
       "      <td>0.00</td>\n",
       "      <td>-0.76</td>\n",
       "      <td>ARCA</td>\n",
       "      <td>2231.00</td>\n",
       "      <td>22.310</td>\n",
       "    </tr>\n",
       "    <tr>\n",
       "      <th>128583</th>\n",
       "      <td>6</td>\n",
       "      <td>ARLO</td>\n",
       "      <td>09:31:18</td>\n",
       "      <td>2018-08-06 09:31:18</td>\n",
       "      <td>B</td>\n",
       "      <td>100.0</td>\n",
       "      <td>400</td>\n",
       "      <td>0.00</td>\n",
       "      <td>-0.56</td>\n",
       "      <td>NYSE</td>\n",
       "      <td>2155.00</td>\n",
       "      <td>21.550</td>\n",
       "    </tr>\n",
       "    <tr>\n",
       "      <th>129324</th>\n",
       "      <td>7</td>\n",
       "      <td>ARLO</td>\n",
       "      <td>09:31:41</td>\n",
       "      <td>2018-08-06 09:31:41</td>\n",
       "      <td>S</td>\n",
       "      <td>-200.0</td>\n",
       "      <td>200</td>\n",
       "      <td>-233.76</td>\n",
       "      <td>-235.36</td>\n",
       "      <td>EDGX</td>\n",
       "      <td>4272.00</td>\n",
       "      <td>21.360</td>\n",
       "    </tr>\n",
       "    <tr>\n",
       "      <th>128682</th>\n",
       "      <td>8</td>\n",
       "      <td>ARLO</td>\n",
       "      <td>09:31:47</td>\n",
       "      <td>2018-08-06 09:31:47</td>\n",
       "      <td>S</td>\n",
       "      <td>-200.0</td>\n",
       "      <td>0</td>\n",
       "      <td>-209.00</td>\n",
       "      <td>-210.62</td>\n",
       "      <td>EDGX</td>\n",
       "      <td>4177.00</td>\n",
       "      <td>20.885</td>\n",
       "    </tr>\n",
       "    <tr>\n",
       "      <th>137504</th>\n",
       "      <td>10</td>\n",
       "      <td>ARLO</td>\n",
       "      <td>09:54:53</td>\n",
       "      <td>2018-08-06 09:54:53</td>\n",
       "      <td>S</td>\n",
       "      <td>-200.0</td>\n",
       "      <td>-200</td>\n",
       "      <td>0.00</td>\n",
       "      <td>-1.60</td>\n",
       "      <td>ARCA</td>\n",
       "      <td>4158.00</td>\n",
       "      <td>20.790</td>\n",
       "    </tr>\n",
       "    <tr>\n",
       "      <th>138844</th>\n",
       "      <td>11</td>\n",
       "      <td>ARLO</td>\n",
       "      <td>10:01:10</td>\n",
       "      <td>2018-08-06 10:01:10</td>\n",
       "      <td>S</td>\n",
       "      <td>-100.0</td>\n",
       "      <td>-300</td>\n",
       "      <td>0.00</td>\n",
       "      <td>-0.81</td>\n",
       "      <td>ARCA</td>\n",
       "      <td>2087.50</td>\n",
       "      <td>20.875</td>\n",
       "    </tr>\n",
       "    <tr>\n",
       "      <th>138963</th>\n",
       "      <td>12</td>\n",
       "      <td>ARLO</td>\n",
       "      <td>10:27:30</td>\n",
       "      <td>2018-08-06 10:27:30</td>\n",
       "      <td>B</td>\n",
       "      <td>300.0</td>\n",
       "      <td>0</td>\n",
       "      <td>-226.00</td>\n",
       "      <td>-228.27</td>\n",
       "      <td>EDGX</td>\n",
       "      <td>6471.50</td>\n",
       "      <td>21.572</td>\n",
       "    </tr>\n",
       "  </tbody>\n",
       "</table>\n",
       "</div>"
      ],
      "text/plain": [
       "         index Ticker      Time           Date_Time B_S    Qty  Pos_Size  \\\n",
       "Order_Id                                                                   \n",
       "121819       3   ARLO  09:22:20 2018-08-06 09:22:20   B  200.0       200   \n",
       "123167       5   ARLO  09:24:03 2018-08-06 09:24:03   B  100.0       300   \n",
       "128583       6   ARLO  09:31:18 2018-08-06 09:31:18   B  100.0       400   \n",
       "129324       7   ARLO  09:31:41 2018-08-06 09:31:41   S -200.0       200   \n",
       "128682       8   ARLO  09:31:47 2018-08-06 09:31:47   S -200.0         0   \n",
       "137504      10   ARLO  09:54:53 2018-08-06 09:54:53   S -200.0      -200   \n",
       "138844      11   ARLO  10:01:10 2018-08-06 10:01:10   S -100.0      -300   \n",
       "138963      12   ARLO  10:27:30 2018-08-06 10:27:30   B  300.0         0   \n",
       "\n",
       "           Gross     Net Route  BP_Used   Price  \n",
       "Order_Id                                         \n",
       "121819      0.00   -1.48  CROX  4505.76  22.529  \n",
       "123167      0.00   -0.76  ARCA  2231.00  22.310  \n",
       "128583      0.00   -0.56  NYSE  2155.00  21.550  \n",
       "129324   -233.76 -235.36  EDGX  4272.00  21.360  \n",
       "128682   -209.00 -210.62  EDGX  4177.00  20.885  \n",
       "137504      0.00   -1.60  ARCA  4158.00  20.790  \n",
       "138844      0.00   -0.81  ARCA  2087.50  20.875  \n",
       "138963   -226.00 -228.27  EDGX  6471.50  21.572  "
      ]
     },
     "execution_count": 16,
     "metadata": {},
     "output_type": "execute_result"
    }
   ],
   "source": [
    "date_tickers_exec[date][ticker]"
   ]
  },
  {
   "cell_type": "code",
   "execution_count": null,
   "metadata": {},
   "outputs": [],
   "source": []
  },
  {
   "cell_type": "code",
   "execution_count": null,
   "metadata": {
    "ExecuteTime": {
     "end_time": "2018-11-11T22:23:45.746026Z",
     "start_time": "2018-11-11T22:23:45.696023Z"
    }
   },
   "outputs": [],
   "source": []
  },
  {
   "cell_type": "code",
   "execution_count": 17,
   "metadata": {},
   "outputs": [
    {
     "ename": "NameError",
     "evalue": "name 'drawing_trades' is not defined",
     "output_type": "error",
     "traceback": [
      "\u001b[1;31m---------------------------------------------------------------------------\u001b[0m",
      "\u001b[1;31mNameError\u001b[0m                                 Traceback (most recent call last)",
      "\u001b[1;32m<ipython-input-17-fe53357ca2a3>\u001b[0m in \u001b[0;36m<module>\u001b[1;34m()\u001b[0m\n\u001b[1;32m----> 1\u001b[1;33m \u001b[0mdrawing_trades\u001b[0m\u001b[1;33m\u001b[0m\u001b[0m\n\u001b[0m",
      "\u001b[1;31mNameError\u001b[0m: name 'drawing_trades' is not defined"
     ]
    }
   ],
   "source": [
    "drawing_trades"
   ]
  },
  {
   "cell_type": "code",
   "execution_count": 18,
   "metadata": {
    "ExecuteTime": {
     "end_time": "2018-11-11T22:12:21.001861Z",
     "start_time": "2018-11-11T22:12:20.997861Z"
    }
   },
   "outputs": [],
   "source": [
    "drawing_trades = date_tickers_exec[date][ticker]"
   ]
  },
  {
   "cell_type": "code",
   "execution_count": 19,
   "metadata": {
    "ExecuteTime": {
     "end_time": "2018-11-11T22:03:24.330165Z",
     "start_time": "2018-11-11T22:03:18.438828Z"
    }
   },
   "outputs": [],
   "source": [
    "chart_df = create_chart_df(chart_file)"
   ]
  },
  {
   "cell_type": "code",
   "execution_count": 135,
   "metadata": {},
   "outputs": [],
   "source": [
    "spy_chart = create_chart_df(r\"C:\\Users\\User\\Documents\\SPY_example_1m.csv\")"
   ]
  },
  {
   "cell_type": "code",
   "execution_count": null,
   "metadata": {},
   "outputs": [],
   "source": []
  },
  {
   "cell_type": "code",
   "execution_count": 20,
   "metadata": {
    "ExecuteTime": {
     "end_time": "2018-11-11T22:03:26.948315Z",
     "start_time": "2018-11-11T22:03:26.410284Z"
    }
   },
   "outputs": [],
   "source": [
    "date_of_trade = drawing_trades.Date_Time[0]\n",
    "needed_chart = chart_df[(chart_df.Date_Time.apply(lambda x: x.date()) >= date_of_trade.date()) &\n",
    "      (chart_df.Date_Time.apply(lambda x: x.date()) < date_of_trade.date().replace(day=date_of_trade.day+1))]"
   ]
  },
  {
   "cell_type": "code",
   "execution_count": 136,
   "metadata": {},
   "outputs": [],
   "source": [
    "spy_needed_chart = spy_chart[(spy_chart.Date_Time.apply(lambda x: x.date()) >= date_of_trade.date()) &\n",
    "      (spy_chart.Date_Time.apply(lambda x: x.date()) < date_of_trade.date().replace(day=date_of_trade.day+1))]"
   ]
  },
  {
   "cell_type": "code",
   "execution_count": null,
   "metadata": {},
   "outputs": [],
   "source": []
  },
  {
   "cell_type": "code",
   "execution_count": 137,
   "metadata": {},
   "outputs": [],
   "source": [
    "make_main_chart(needed_chart, drawing_trades, spy_needed_chart)"
   ]
  },
  {
   "cell_type": "code",
   "execution_count": null,
   "metadata": {},
   "outputs": [],
   "source": []
  },
  {
   "cell_type": "code",
   "execution_count": null,
   "metadata": {
    "ExecuteTime": {
     "end_time": "2018-11-11T21:09:58.515803Z",
     "start_time": "2018-11-11T21:09:58.505802Z"
    }
   },
   "outputs": [],
   "source": [
    "def candle_time(series, timeframe):\n",
    "    #print(series, type(series))\n",
    "    minute = series.minute - series.minute % timeframe\n",
    "    return dt.datetime(series.year, series.month, series.day, series.hour, minute)\n",
    "    \n",
    "    #for i in len(dataframe):\n",
    "    #    dataframe.iloc[i, 3]\n",
    "    #dataframe.insert(0, 'Candle_Time', )"
   ]
  },
  {
   "cell_type": "code",
   "execution_count": null,
   "metadata": {},
   "outputs": [],
   "source": []
  },
  {
   "cell_type": "code",
   "execution_count": null,
   "metadata": {},
   "outputs": [],
   "source": []
  }
 ],
 "metadata": {
  "kernelspec": {
   "display_name": "Python 3",
   "language": "python",
   "name": "python3"
  },
  "language_info": {
   "codemirror_mode": {
    "name": "ipython",
    "version": 3
   },
   "file_extension": ".py",
   "mimetype": "text/x-python",
   "name": "python",
   "nbconvert_exporter": "python",
   "pygments_lexer": "ipython3",
   "version": "3.6.5"
  },
  "varInspector": {
   "cols": {
    "lenName": 16,
    "lenType": 16,
    "lenVar": 40
   },
   "kernels_config": {
    "python": {
     "delete_cmd_postfix": "",
     "delete_cmd_prefix": "del ",
     "library": "var_list.py",
     "varRefreshCmd": "print(var_dic_list())"
    },
    "r": {
     "delete_cmd_postfix": ") ",
     "delete_cmd_prefix": "rm(",
     "library": "var_list.r",
     "varRefreshCmd": "cat(var_dic_list()) "
    }
   },
   "types_to_exclude": [
    "module",
    "function",
    "builtin_function_or_method",
    "instance",
    "_Feature"
   ],
   "window_display": false
  }
 },
 "nbformat": 4,
 "nbformat_minor": 2
}
