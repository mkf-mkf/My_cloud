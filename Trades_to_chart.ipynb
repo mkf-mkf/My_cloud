{
 "cells": [
  {
   "cell_type": "markdown",
   "metadata": {},
   "source": [
    "Trades\n",
    "+ Адрес хранилища данных: points\n",
    "Получение данных\n",
    "Адрес хранилища данных: данные\n",
    "+ download data\n",
    "+ read file\n",
    "Получение словаря датафремов трейдов\n",
    "+ Данные: словарь датафреймов\n",
    "+ method(type): type\n",
    "Преобразования к таймфрему оси чарта\n",
    "+ Датафрейм: Агрегированный датафрейм по таймфрему\n",
    "+ Агрегация экзекьюшинов с разницей времени < 5s\n",
    "+ Агрегация по таймфреймам\n",
    "Рисование экзекьюшина на чарте\n",
    "+ Dataframe: chart\n",
    "+ plotly\n",
    "главная программа\n",
    "\"Перенесение трейдов на график\"\n",
    "главная программа(передаем источник трейдов, источник таблиц для графиков, дата=последний рабочий день):\n",
    "    обработка трейдов(источник трейдов, дата):\n",
    "    датафрейм графика = обработка источника таблиц графика(источник таблиц графиков, дата=последний рабочий день)\n",
    "    датафрейм трейдов = обработка источника хранилища (источник трейдов)\n",
    "    рисуем график стака с точками входа(датафрейм графика, датафрейм трейдов)\n",
    "Рисование чарта\n",
    "Рисование трейдов\n",
    "Candlestick\n",
    "Хранилище данных: chart object\n",
    "подготовка данных для графика\n",
    "+ адрес хранилища данных: строка\n",
    "Получение данных\n",
    "+ адресс файла (строка): содержимое файла\n",
    "+ чтение данных\n",
    "Подготовка датафрейма\n",
    "Объект данных: строка\n",
    "+ csv to Dataframe\n",
    "+ Convert Data\n",
    "+ Prepare columns\n",
    "Выбор времени\n",
    "Датафрейм : рабочий датафрейм\n",
    "+ обрезаем датафрейм до нужных данных\n",
    "Получение таймфрейма\n",
    "+ Dataframe : Dataframe\n",
    "+ трансформация датафрейма \n",
    "   в нужный таймфрейм\n",
    "Plotting\n",
    "+ Dataframe: Plott\n",
    "ploly candlestick\n",
    "Чарт\n"
   ]
  },
  {
   "cell_type": "markdown",
   "metadata": {},
   "source": [
    "деф главная программа(передаем источник трейдов, источник таблиц для графиков, дата=последний рабочий день):\n",
    "    обработка трейдов(источник трейдов, дата):\n",
    "    датафрейм графика = обработка источника таблиц графика(источник таблиц графиков, дата=последний рабочий день)\n",
    "    датафрейм трейдов = обработка источника хранилища (источник трейдов)\n",
    "    рисуем график стака с точками входа(датафрейм графика, датафрейм трейдов)"
   ]
  },
  {
   "cell_type": "code",
   "execution_count": 2,
   "metadata": {
    "ExecuteTime": {
     "end_time": "2018-11-11T18:46:36.316953Z",
     "start_time": "2018-11-11T18:46:24.253263Z"
    },
    "collapsed": true
   },
   "outputs": [],
   "source": [
    "import pandas as pd\n",
    "import re\n",
    "import plotly\n",
    "import plotly.plotly as py\n",
    "import plotly.graph_objs as go\n",
    "import datetime as dt\n",
    "import win32com.client\n",
    "\n",
    "#plotly.tools.set_credentials_file(username='mkf', api_key='crwJntc1jJsAdaHKiDPL')"
   ]
  },
  {
   "cell_type": "code",
   "execution_count": 3,
   "metadata": {},
   "outputs": [
    {
     "data": {
      "text/html": [
       "<script type=\"text/javascript\">window.PlotlyConfig = {MathJaxConfig: 'local'};</script><script type=\"text/javascript\">if (window.MathJax) {MathJax.Hub.Config({SVG: {font: \"STIX-Web\"}});}</script><script>requirejs.config({paths: { 'plotly': ['https://cdn.plot.ly/plotly-latest.min']},});if(!window._Plotly) {require(['plotly'],function(plotly) {window._Plotly=plotly;});}</script>"
      ],
      "text/vnd.plotly.v1+html": [
       "<script type=\"text/javascript\">window.PlotlyConfig = {MathJaxConfig: 'local'};</script><script type=\"text/javascript\">if (window.MathJax) {MathJax.Hub.Config({SVG: {font: \"STIX-Web\"}});}</script><script>requirejs.config({paths: { 'plotly': ['https://cdn.plot.ly/plotly-latest.min']},});if(!window._Plotly) {require(['plotly'],function(plotly) {window._Plotly=plotly;});}</script>"
      ]
     },
     "metadata": {},
     "output_type": "display_data"
    }
   ],
   "source": [
    "from plotly.offline import download_plotlyjs, init_notebook_mode, plot, iplot\n",
    "from plotly import tools\n",
    "init_notebook_mode(connected=True)"
   ]
  },
  {
   "cell_type": "code",
   "execution_count": 4,
   "metadata": {
    "ExecuteTime": {
     "end_time": "2018-11-11T18:46:37.948046Z",
     "start_time": "2018-11-11T18:46:37.932045Z"
    },
    "collapsed": true
   },
   "outputs": [],
   "source": [
    "def fix_excel(trades_file):\n",
    "    import win32com.client\n",
    "\n",
    "    xl=win32com.client.Dispatch(\"Excel.Application\")\n",
    "    xl.Application.DisplayAlerts = False # disables Excel pop up message (for saving the file)\n",
    "    wb = xl.Workbooks.Open(Filename=file_excel)\n",
    "    wb.SaveAs(file_excel)\n",
    "    wb.Close\n",
    "    xl.Application.DisplayAlerts = True"
   ]
  },
  {
   "cell_type": "code",
   "execution_count": 5,
   "metadata": {
    "ExecuteTime": {
     "end_time": "2018-11-11T18:46:54.906016Z",
     "start_time": "2018-11-11T18:46:54.882014Z"
    },
    "collapsed": true
   },
   "outputs": [],
   "source": [
    "def open_excel(path):\n",
    "    try:\n",
    "        open_file = pd.read_excel(path, encoding='utf-16', header=None)\n",
    "    except CompDocError:\n",
    "        fix_excel(path)\n",
    "        open_file = pd.read_excel(path, encoding='utf-16', header=None)\n",
    "    return open_file"
   ]
  },
  {
   "cell_type": "code",
   "execution_count": 6,
   "metadata": {
    "ExecuteTime": {
     "end_time": "2018-11-11T18:46:56.547110Z",
     "start_time": "2018-11-11T18:46:56.481106Z"
    },
    "collapsed": true
   },
   "outputs": [],
   "source": [
    "def normalise_formats(storage_of_executions):\n",
    "    important_columns = ['Order Id', 'Time', 'B/S', 'Qty', 'Price', 'Gross', 'Net', 'Route']\n",
    "    copy_storage_of_executions = storage_of_executions.copy()\n",
    "    for date, tickers in storage_of_executions.items():\n",
    "        for ticker, executions in tickers.items():\n",
    "            new_df = executions[important_columns]\n",
    "            new_df.insert(0, 'Date_Time', pd.to_datetime((date + ' ' + new_df['Time']), dayfirst=False))\n",
    "            new_df.insert(1, 'Ticker', ticker)\n",
    "            new_df['BP_used'] = new_df['Price'] * new_df['Qty']\n",
    "            new_df['Qty'] = new_df.apply(lambda x: x['Qty'] if new_df['B/S'][x.name] in ['B', 'C'] else -x['Qty'], axis=1)\n",
    "            #new_df.insert(6, 'Pos_size', new_df['Qty'].cumsum())\n",
    "            new_df.reset_index(inplace=True)\n",
    "            copy_storage_of_executions[date][ticker] = group_by_order_final(new_df)\n",
    "    return copy_storage_of_executions"
   ]
  },
  {
   "cell_type": "code",
   "execution_count": null,
   "metadata": {
    "collapsed": true
   },
   "outputs": [],
   "source": []
  },
  {
   "cell_type": "code",
   "execution_count": 7,
   "metadata": {
    "ExecuteTime": {
     "end_time": "2018-11-11T22:10:42.937252Z",
     "start_time": "2018-11-11T22:10:42.882249Z"
    },
    "collapsed": true
   },
   "outputs": [],
   "source": [
    "def group_by_order(executions):\n",
    "    round_sum = lambda x: round(sum(x), 2)\n",
    "    executions_by_order = executions.groupby('Order Id').agg(({'index': 'first', 'Ticker' : 'first','Time' : 'first', \n",
    "                                                               'Date_Time' : 'first', 'B/S' : 'first', 'Qty' : 'sum',\n",
    "                                                               #'Pos_size' : 'sum', \n",
    "                                                               'Gross' : round_sum, 'Net' : round_sum, 'Route' : 'first',\n",
    "                                                               'BP_used': 'sum'}))\n",
    "    executions_by_order['Price'] = abs(round(executions_by_order['BP_used'] / executions_by_order['Qty'], 3))\n",
    "    return executions_by_order"
   ]
  },
  {
   "cell_type": "code",
   "execution_count": 8,
   "metadata": {
    "ExecuteTime": {
     "end_time": "2018-11-11T18:47:01.308382Z",
     "start_time": "2018-11-11T18:47:01.231378Z"
    },
    "collapsed": true
   },
   "outputs": [],
   "source": [
    "def group_by_order_final(execution):\n",
    "    new_group_by_orger = group_by_order(pd.DataFrame(columns=execution.columns))\n",
    "    one_group = pd.DataFrame(columns=execution.columns)\n",
    "    for i in range(len(execution)):\n",
    "        if one_group.empty:\n",
    "            one_group = one_group.append(execution.iloc[i, :])\n",
    "        if i == len(execution) - 1:\n",
    "            new_group_by_orger = new_group_by_orger.append(group_by_order(one_group))\n",
    "            one_group = pd.DataFrame(columns=execution.columns)\n",
    "        else:\n",
    "            try:\n",
    "                if execution['Order Id'][i] == execution['Order Id'][i+1]:\n",
    "                    one_group = one_group.append(execution.iloc[i, :])\n",
    "                else:\n",
    "                    new_group_by_orger = new_group_by_orger.append(group_by_order(one_group))\n",
    "                    one_group = pd.DataFrame(columns=execution.columns)\n",
    "            except:\n",
    "                new_group_by_orger = new_group_by_orger.append(group_by_order(one_group))\n",
    "                one_group = pd.DataFrame(columns=execution.columns)\n",
    "    new_group_by_orger.insert(6, 'Pos_size', new_group_by_orger['Qty'].cumsum())\n",
    "    return new_group_by_orger"
   ]
  },
  {
   "cell_type": "code",
   "execution_count": 9,
   "metadata": {
    "ExecuteTime": {
     "end_time": "2018-11-11T18:47:07.228721Z",
     "start_time": "2018-11-11T18:47:07.098713Z"
    },
    "collapsed": true
   },
   "outputs": [],
   "source": [
    "def preprocessing_trades(storage_of_executions):\n",
    "    file_parsing = {}\n",
    "    excel_df = storage_of_executions\n",
    "    reindex = {a : b for a, b in zip(range(22), excel_df.iloc[2, :])}\n",
    "    excel_df = excel_df.rename(columns=reindex)\n",
    "    for i in range(len(excel_df)):\n",
    "        if pd.notna(excel_df.iloc[i][0]):\n",
    "            if re.match(r'\\d{1,2}/\\d{1,2}/\\d{4}', excel_df.iloc[i][0]):\n",
    "                date = excel_df.iloc[i][0]\n",
    "                file_parsing[date] = {}\n",
    "                continue\n",
    "\n",
    "            elif re.match(r'^([\\w/]+)\\s{1,2}-\\s.*', excel_df.iloc[i][0]):\n",
    "                ticker = re.match(r'^([\\w/]+)\\s{1,2}-\\s.*', excel_df.iloc[i][0])[1]\n",
    "                file_parsing[date][ticker] = pd.DataFrame()\n",
    "                continue\n",
    "\n",
    "            elif excel_df.iloc[i][0] == 'Time':\n",
    "\n",
    "                file_parsing[date][ticker].reindex(columns=excel_df.iloc[i])\n",
    "                columns = excel_df.iloc[i]\n",
    "                continue\n",
    "\n",
    "            elif re.match(r'\\d\\d:\\d\\d:\\d\\d', excel_df.iloc[i][0]):\n",
    "                file_parsing[date][ticker] = file_parsing[date][ticker].append(excel_df.iloc[i, :])\n",
    "    date_ticker_exec = normalise_formats(file_parsing)\n",
    "    return date_ticker_exec"
   ]
  },
  {
   "cell_type": "code",
   "execution_count": null,
   "metadata": {
    "collapsed": true
   },
   "outputs": [],
   "source": [
    "#def create_points(data):\n",
    "#    days_trades = preprocessing_trades(file_name)\n",
    " "
   ]
  },
  {
   "cell_type": "code",
   "execution_count": 10,
   "metadata": {
    "ExecuteTime": {
     "end_time": "2018-11-11T22:24:50.524731Z",
     "start_time": "2018-11-11T22:24:50.507730Z"
    },
    "collapsed": true
   },
   "outputs": [],
   "source": [
    "def create_chart_df(chart_file):\n",
    "    chart_df = pd.read_csv(chart_file, sep=';', decimal=',', header=0)\n",
    "    chart_df[['Open', 'High', 'Low', 'Close', 'PC', 'Vol']] = chart_df[['Open', 'High', 'Low', 'Close', 'PC', 'Vol']].apply(lambda x:  round(x, 2))\n",
    "    chart_df.insert(0, 'Date_Time', pd.to_datetime((chart_df['Date'] + ' ' + chart_df['Time']), dayfirst=True))\n",
    "    return chart_df"
   ]
  },
  {
   "cell_type": "code",
   "execution_count": 11,
   "metadata": {
    "ExecuteTime": {
     "end_time": "2018-11-11T22:33:43.551219Z",
     "start_time": "2018-11-11T22:33:41.174083Z"
    },
    "scrolled": true
   },
   "outputs": [],
   "source": [
    "def make_main_chart(needed_chart, drawing_trades):\n",
    "    buy_executions = drawing_trades.loc[drawing_trades['B/S'].isin(['B', 'C'])]\n",
    "    sell_executions = drawing_trades.loc[drawing_trades['B/S'].isin(['S', 'T'])]\n",
    "    chart = go.Candlestick(x=needed_chart.Date_Time,\n",
    "                           open=needed_chart.Open,\n",
    "                           high=needed_chart.High,\n",
    "                           low=needed_chart.Low,\n",
    "                           close=needed_chart.Close,\n",
    "                          name=buy_executions.Ticker[0], \n",
    "                          decreasing = {\"fillcolor\": \"rgb(227, 14, 0)\", \n",
    "                                        \"line\": {\n",
    "                                          \"color\": \"rgb(8, 7, 7)\", \n",
    "                                          \"width\": 1}},\n",
    "                          increasing = {\"fillcolor\": \"rgb(68, 171, 42)\", \n",
    "                                        \"line\": {\n",
    "                                          \"color\": \"rgb(5, 10, 8)\", \n",
    "                                          \"width\": 1}})\n",
    "\n",
    "    buy_trace = go.Scatter(x=buy_executions.Date_Time, y=buy_executions.Price, mode='markers', name='Buy', \n",
    "                           marker = {\"color\": \"rgb(103, 228, 97)\", \n",
    "                                     \"line\": {\"width\": 1}, \n",
    "                                     \"size\": 8}, )\n",
    "    sell_trace = go.Scatter(x=sell_executions.Date_Time, y=sell_executions.Price, mode='markers', name='Sell',\n",
    "                           marker={\n",
    "                                   \"color\": \"rgb(235, 180, 12)\", \n",
    "                                   \"line\": {\"width\": 1}, \n",
    "                                   \"size\": 8}, yaxis= \"y\")\n",
    "    PH = go.Scatter(x=needed_chart.Date_Time, y=needed_chart.PH, name='PH', line={\"color\": \"rgb(0, 147, 0)\", \n",
    "                                                                                  \"dash\": \"dot\", \n",
    "                                                                                  \"shape\": \"linear\", \n",
    "                                                                                  \"width\": 2})\n",
    "    PL = go.Scatter(x=needed_chart.Date_Time, y=needed_chart.PL, name='PL', line={\"color\": \"rgb(189, 103, 117)\", \n",
    "                                                                                  \"dash\": \"dot\"}, yaxis= \"y\")\n",
    "    PC = go.Scatter(x=needed_chart.Date_Time, y=needed_chart.PC, name='PC', line={\"color\": \"rgb(120, 75, 140)\", \"dash\": \"dash\"}, yaxis= \"y\")\n",
    "    Vol = dict(x=needed_chart.Date_Time, y=needed_chart.Vol, type='bar', yaxis='y2',  marker= {\"color\": \"rgb(119, 123, 227)\"})\n",
    "    data = [chart, buy_trace, sell_trace, PH, PL, PC, Vol]\n",
    "\n",
    "    layout = {\n",
    "      \"autosize\": True, \n",
    "      \"bargap\": 0.54, \n",
    "      \"xaxis\": {\n",
    "        \"anchor\": \"y2\", \n",
    "        \"autorange\": True, \n",
    "        \"domain\": [0, 1], \n",
    "        \"range\": [\"2018-08-06 05:17:30\", \"2018-08-06 19:47:30\"], \n",
    "        \"rangeslider\": {\n",
    "          \"autorange\": True, \n",
    "          \"range\": [\"2018-08-06 05:17:30\", \"2018-08-06 19:47:30\"], \n",
    "          #\"yaxis2\": {\"rangemode\": \"match\"}\n",
    "        }, \n",
    "        \"type\": \"date\"\n",
    "      }, \n",
    "      \"yaxis\": {\n",
    "        \"anchor\": \"free\", \n",
    "        \"autorange\": True, \n",
    "        \"domain\": [0.17, 1], \n",
    "        #\"overlaying\": False, \n",
    "        \"position\": 0, \n",
    "        \"range\": [18.02, 23.62], \n",
    "        \"type\": \"linear\"\n",
    "      }, \n",
    "      \"yaxis2\": {\n",
    "        \"anchor\": \"x\", \n",
    "        \"autorange\": True, \n",
    "        \"domain\": [0, 0.16], \n",
    "        \"range\": [0, 254736.842105], \n",
    "        \"type\": \"linear\"\n",
    "      }\n",
    "    }\n",
    "\n",
    "    plot(dict(data=data, layout=layout), filename=f'{buy_executions.Ticker[0]}_1m.html')"
   ]
  },
  {
   "cell_type": "code",
   "execution_count": 12,
   "metadata": {
    "ExecuteTime": {
     "end_time": "2018-11-11T18:47:30.825070Z",
     "start_time": "2018-11-11T18:47:30.816070Z"
    },
    "collapsed": true
   },
   "outputs": [],
   "source": [
    "trades_file = r'C:/Users/User/Downloads/07060212-2018-08-06-to-2018-08-09-detailed.xls'\n",
    "chart_file = r'C:\\Users\\User\\Documents\\ARLO_06.08.18.csv'\n",
    "\n",
    "#trades_file = r'C:\\Users\\Kir\\Documents\\07060212-2018-08-06-to-2018-08-09-detailed.xlsx'\n",
    "#chart_file = r'C:\\Users\\User\\Documents\\Old_comp\\Chart 2016-07-16-09-54.csv'"
   ]
  },
  {
   "cell_type": "code",
   "execution_count": null,
   "metadata": {
    "collapsed": true
   },
   "outputs": [],
   "source": [
    "if __name__ == '__main__':\n",
    "    trades_df = processing_trades(trades_file)\n",
    "    chart_df = make_chart_df(chart_file)\n",
    "    create_picture(chart_df, trades_df)"
   ]
  },
  {
   "cell_type": "code",
   "execution_count": null,
   "metadata": {
    "collapsed": true
   },
   "outputs": [],
   "source": []
  },
  {
   "cell_type": "code",
   "execution_count": 13,
   "metadata": {
    "ExecuteTime": {
     "end_time": "2018-11-11T22:11:48.608008Z",
     "start_time": "2018-11-11T22:11:26.424739Z"
    }
   },
   "outputs": [
    {
     "name": "stderr",
     "output_type": "stream",
     "text": [
      "E:\\Program Files (x86)\\Microsoft Visual Studio\\Shared\\Anaconda3_64\\lib\\site-packages\\ipykernel_launcher.py:9: SettingWithCopyWarning:\n",
      "\n",
      "\n",
      "A value is trying to be set on a copy of a slice from a DataFrame.\n",
      "Try using .loc[row_indexer,col_indexer] = value instead\n",
      "\n",
      "See the caveats in the documentation: http://pandas.pydata.org/pandas-docs/stable/indexing.html#indexing-view-versus-copy\n",
      "\n",
      "E:\\Program Files (x86)\\Microsoft Visual Studio\\Shared\\Anaconda3_64\\lib\\site-packages\\ipykernel_launcher.py:10: SettingWithCopyWarning:\n",
      "\n",
      "\n",
      "A value is trying to be set on a copy of a slice from a DataFrame.\n",
      "Try using .loc[row_indexer,col_indexer] = value instead\n",
      "\n",
      "See the caveats in the documentation: http://pandas.pydata.org/pandas-docs/stable/indexing.html#indexing-view-versus-copy\n",
      "\n"
     ]
    },
    {
     "name": "stdout",
     "output_type": "stream",
     "text": [
      "Wall time: 8.94 s\n"
     ]
    }
   ],
   "source": [
    "%%time\n",
    "date = '8/6/2018'\n",
    "ticker = 'ARLO'\n",
    "\n",
    "#trades_file = r'C:/Users/User/Downloads/07060212-2018-08-06-to-2018-08-09-detailed.xls'\n",
    "#chart_file = r'C:\\Users\\User\\Documents\\Old_comp\\Chart 2016-07-16-09-54.csv'\n",
    "\n",
    "opened_file = open_excel(trades_file)\n",
    "date_tickers_exec = preprocessing_trades(opened_file)"
   ]
  },
  {
   "cell_type": "code",
   "execution_count": null,
   "metadata": {
    "ExecuteTime": {
     "end_time": "2018-11-11T22:11:59.611638Z",
     "start_time": "2018-11-11T22:11:59.598637Z"
    }
   },
   "outputs": [],
   "source": [
    "date_tickers_exec[date][ticker]['Net'].sum()"
   ]
  },
  {
   "cell_type": "code",
   "execution_count": null,
   "metadata": {
    "collapsed": true
   },
   "outputs": [],
   "source": []
  },
  {
   "cell_type": "code",
   "execution_count": null,
   "metadata": {
    "collapsed": true
   },
   "outputs": [],
   "source": []
  },
  {
   "cell_type": "code",
   "execution_count": null,
   "metadata": {
    "ExecuteTime": {
     "end_time": "2018-11-11T22:23:45.746026Z",
     "start_time": "2018-11-11T22:23:45.696023Z"
    }
   },
   "outputs": [],
   "source": []
  },
  {
   "cell_type": "code",
   "execution_count": null,
   "metadata": {
    "collapsed": true
   },
   "outputs": [],
   "source": []
  },
  {
   "cell_type": "code",
   "execution_count": 14,
   "metadata": {
    "ExecuteTime": {
     "end_time": "2018-11-11T22:12:21.001861Z",
     "start_time": "2018-11-11T22:12:20.997861Z"
    },
    "collapsed": true
   },
   "outputs": [],
   "source": [
    "drawing_trades = date_tickers_exec['8/7/2018']['ONCE']"
   ]
  },
  {
   "cell_type": "code",
   "execution_count": 16,
   "metadata": {
    "ExecuteTime": {
     "end_time": "2018-11-11T22:03:24.330165Z",
     "start_time": "2018-11-11T22:03:18.438828Z"
    }
   },
   "outputs": [],
   "source": [
    "chart_df = create_chart_df('C:\\\\Users\\\\User\\\\Documents\\\\ONCE_1m.csv')"
   ]
  },
  {
   "cell_type": "code",
   "execution_count": 17,
   "metadata": {
    "ExecuteTime": {
     "end_time": "2018-11-11T22:03:26.948315Z",
     "start_time": "2018-11-11T22:03:26.410284Z"
    },
    "collapsed": true
   },
   "outputs": [],
   "source": [
    "date_of_trade = date_tickers_exec['8/7/2018']['ONCE'].Date_Time[0]\n",
    "needed_chart = chart_df[(chart_df.Date_Time.apply(lambda x: x.date()) >= date_of_trade.date()) &\n",
    "      (chart_df.Date_Time.apply(lambda x: x.date()) < date_of_trade.date().replace(day=date_of_trade.day+1))]"
   ]
  },
  {
   "cell_type": "code",
   "execution_count": 18,
   "metadata": {
    "collapsed": true
   },
   "outputs": [],
   "source": [
    "make_main_chart(needed_chart, drawing_trades)"
   ]
  },
  {
   "cell_type": "code",
   "execution_count": null,
   "metadata": {
    "collapsed": true
   },
   "outputs": [],
   "source": []
  },
  {
   "cell_type": "code",
   "execution_count": null,
   "metadata": {
    "collapsed": true
   },
   "outputs": [],
   "source": []
  },
  {
   "cell_type": "code",
   "execution_count": null,
   "metadata": {
    "collapsed": true
   },
   "outputs": [],
   "source": []
  },
  {
   "cell_type": "code",
   "execution_count": null,
   "metadata": {
    "ExecuteTime": {
     "end_time": "2018-11-11T21:09:58.515803Z",
     "start_time": "2018-11-11T21:09:58.505802Z"
    },
    "collapsed": true
   },
   "outputs": [],
   "source": [
    "def candle_time(series, timeframe):\n",
    "    #print(series, type(series))\n",
    "    minute = series.minute - series.minute % timeframe\n",
    "    return dt.datetime(series.year, series.month, series.day, series.hour, minute)\n",
    "    \n",
    "    #for i in len(dataframe):\n",
    "    #    dataframe.iloc[i, 3]\n",
    "    #dataframe.insert(0, 'Candle_Time', )"
   ]
  },
  {
   "cell_type": "code",
   "execution_count": null,
   "metadata": {},
   "outputs": [],
   "source": [
    "# Раборает, но непонятно, как изменить размер сабплота\n",
    "#fig = tools.make_subplots(rows=2, cols=1, shared_xaxes=True, )\n",
    "#for i in data:\n",
    "#    fig.append_trace(i, 1, 1)\n",
    "#fig.append_trace({'x': needed_chart.Date_Time, 'y': needed_chart.Vol, 'type': 'bar', 'name':'Vol', \"marker\": {\"color\": \"rgb(119, 123, 227)\"}}, 2, 1)"
   ]
  },
  {
   "cell_type": "code",
   "execution_count": null,
   "metadata": {},
   "outputs": [],
   "source": []
  },
  {
   "cell_type": "code",
   "execution_count": null,
   "metadata": {},
   "outputs": [],
   "source": []
  }
 ],
 "metadata": {
  "kernelspec": {
   "display_name": "Python 3",
   "language": "python",
   "name": "python3"
  },
  "language_info": {
   "codemirror_mode": {
    "name": "ipython",
    "version": 3
   },
   "file_extension": ".py",
   "mimetype": "text/x-python",
   "name": "python",
   "nbconvert_exporter": "python",
   "pygments_lexer": "ipython3",
   "version": "3.6.5"
  },
  "varInspector": {
   "cols": {
    "lenName": 16,
    "lenType": 16,
    "lenVar": 40
   },
   "kernels_config": {
    "python": {
     "delete_cmd_postfix": "",
     "delete_cmd_prefix": "del ",
     "library": "var_list.py",
     "varRefreshCmd": "print(var_dic_list())"
    },
    "r": {
     "delete_cmd_postfix": ") ",
     "delete_cmd_prefix": "rm(",
     "library": "var_list.r",
     "varRefreshCmd": "cat(var_dic_list()) "
    }
   },
   "types_to_exclude": [
    "module",
    "function",
    "builtin_function_or_method",
    "instance",
    "_Feature"
   ],
   "window_display": false
  }
 },
 "nbformat": 4,
 "nbformat_minor": 2
}
