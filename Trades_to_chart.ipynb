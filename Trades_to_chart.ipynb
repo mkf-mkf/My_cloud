{
 "cells": [
  {
   "cell_type": "code",
   "execution_count": 117,
   "metadata": {},
   "outputs": [],
   "source": [
    "import pandas as pd\n",
    "import re\n",
    "import plotly\n",
    "import plotly.plotly as py\n",
    "import plotly.graph_objs as go\n",
    "\n",
    "plotly.tools.set_credentials_file(username='mkf', api_key='crwJntc1jJsAdaHKiDPL')"
   ]
  },
  {
   "cell_type": "code",
   "execution_count": 3,
   "metadata": {},
   "outputs": [],
   "source": [
    "def processing_trades(trades_file):\n",
    "    pass"
   ]
  },
  {
   "cell_type": "code",
   "execution_count": 4,
   "metadata": {},
   "outputs": [],
   "source": [
    "def make_chart_df(chart_file):\n",
    "    pass"
   ]
  },
  {
   "cell_type": "code",
   "execution_count": 8,
   "metadata": {},
   "outputs": [],
   "source": [
    "def create_chart(chart_df):\n",
    "    chart_df = pd.read_csv(chart_file, sep=';', decimal=',', header=0)\n",
    "    chart_df[['Open', 'High', 'Low', 'Close', 'PC']] = chart_df[['Open', 'High', 'Low', 'Close', 'PC']].apply(lambda x:  round(x, 2))\n",
    "    chart_df.insert(0, 'Date_Time', pd.to_datetime((chart_df['Date'] + ' ' + chart_df['Time']), dayfirst=True))"
   ]
  },
  {
   "cell_type": "code",
   "execution_count": 12,
   "metadata": {},
   "outputs": [],
   "source": [
    "def draw_trades(trades_df):\n",
    "    pass"
   ]
  },
  {
   "cell_type": "code",
   "execution_count": 14,
   "metadata": {},
   "outputs": [],
   "source": [
    "def create_picture(chart_df, trades_df):\n",
    "    create_chart(chart_df)\n",
    "    draw_trades(trades_df)"
   ]
  },
  {
   "cell_type": "code",
   "execution_count": 24,
   "metadata": {},
   "outputs": [],
   "source": [
    "trades_file = ''\n",
    "chart_file = r'C:\\Users\\User\\Documents\\Old_comp\\Chart 2016-07-16-09-54.csv'\n"
   ]
  },
  {
   "cell_type": "code",
   "execution_count": 15,
   "metadata": {},
   "outputs": [],
   "source": [
    "if __name__ == '__main__':\n",
    "    trades_df = processing_trades(trades_file)\n",
    "    chart_df = make_chart_df(chart_file)\n",
    "    create_picture(chart_df, trades_df)"
   ]
  },
  {
   "cell_type": "code",
   "execution_count": 64,
   "metadata": {},
   "outputs": [],
   "source": [
    "chart_df = pd.read_csv(chart_file, sep=';', decimal=',', header=0)\n",
    "chart_df[['Open', 'High', 'Low', 'Close', 'PC']] = chart_df[['Open', 'High', 'Low', 'Close', 'PC']].apply(lambda x:  round(x, 2))\n",
    "chart_df.insert(0, 'Date_Time', pd.to_datetime((chart_df['Date'] + ' ' + chart_df['Time']), dayfirst=True))"
   ]
  },
  {
   "cell_type": "code",
   "execution_count": 66,
   "metadata": {},
   "outputs": [
    {
     "data": {
      "text/html": [
       "<div>\n",
       "<style scoped>\n",
       "    .dataframe tbody tr th:only-of-type {\n",
       "        vertical-align: middle;\n",
       "    }\n",
       "\n",
       "    .dataframe tbody tr th {\n",
       "        vertical-align: top;\n",
       "    }\n",
       "\n",
       "    .dataframe thead th {\n",
       "        text-align: right;\n",
       "    }\n",
       "</style>\n",
       "<table border=\"1\" class=\"dataframe\">\n",
       "  <thead>\n",
       "    <tr style=\"text-align: right;\">\n",
       "      <th></th>\n",
       "      <th>Date_Time</th>\n",
       "      <th>Date</th>\n",
       "      <th>Time</th>\n",
       "      <th>Open</th>\n",
       "      <th>High</th>\n",
       "      <th>Low</th>\n",
       "      <th>Close</th>\n",
       "      <th>PC</th>\n",
       "    </tr>\n",
       "  </thead>\n",
       "  <tbody>\n",
       "    <tr>\n",
       "      <th>0</th>\n",
       "      <td>2016-07-15 15:55:00</td>\n",
       "      <td>15.07.2016</td>\n",
       "      <td>15:55:00</td>\n",
       "      <td>215.80</td>\n",
       "      <td>215.96</td>\n",
       "      <td>215.79</td>\n",
       "      <td>215.81</td>\n",
       "      <td>216.12</td>\n",
       "    </tr>\n",
       "    <tr>\n",
       "      <th>1</th>\n",
       "      <td>2016-07-15 15:50:00</td>\n",
       "      <td>15.07.2016</td>\n",
       "      <td>15:50:00</td>\n",
       "      <td>215.84</td>\n",
       "      <td>215.90</td>\n",
       "      <td>215.79</td>\n",
       "      <td>215.80</td>\n",
       "      <td>216.12</td>\n",
       "    </tr>\n",
       "    <tr>\n",
       "      <th>2</th>\n",
       "      <td>2016-07-15 15:45:00</td>\n",
       "      <td>15.07.2016</td>\n",
       "      <td>15:45:00</td>\n",
       "      <td>215.89</td>\n",
       "      <td>215.94</td>\n",
       "      <td>215.83</td>\n",
       "      <td>215.83</td>\n",
       "      <td>216.12</td>\n",
       "    </tr>\n",
       "    <tr>\n",
       "      <th>3</th>\n",
       "      <td>2016-07-15 15:40:00</td>\n",
       "      <td>15.07.2016</td>\n",
       "      <td>15:40:00</td>\n",
       "      <td>216.04</td>\n",
       "      <td>216.04</td>\n",
       "      <td>215.88</td>\n",
       "      <td>215.90</td>\n",
       "      <td>216.12</td>\n",
       "    </tr>\n",
       "    <tr>\n",
       "      <th>4</th>\n",
       "      <td>2016-07-15 15:35:00</td>\n",
       "      <td>15.07.2016</td>\n",
       "      <td>15:35:00</td>\n",
       "      <td>216.06</td>\n",
       "      <td>216.09</td>\n",
       "      <td>215.98</td>\n",
       "      <td>216.03</td>\n",
       "      <td>216.12</td>\n",
       "    </tr>\n",
       "  </tbody>\n",
       "</table>\n",
       "</div>"
      ],
      "text/plain": [
       "            Date_Time        Date      Time   ...       Low   Close      PC\n",
       "0 2016-07-15 15:55:00  15.07.2016  15:55:00   ...    215.79  215.81  216.12\n",
       "1 2016-07-15 15:50:00  15.07.2016  15:50:00   ...    215.79  215.80  216.12\n",
       "2 2016-07-15 15:45:00  15.07.2016  15:45:00   ...    215.83  215.83  216.12\n",
       "3 2016-07-15 15:40:00  15.07.2016  15:40:00   ...    215.88  215.90  216.12\n",
       "4 2016-07-15 15:35:00  15.07.2016  15:35:00   ...    215.98  216.03  216.12\n",
       "\n",
       "[5 rows x 8 columns]"
      ]
     },
     "execution_count": 66,
     "metadata": {},
     "output_type": "execute_result"
    }
   ],
   "source": [
    "chart_df.head()"
   ]
  },
  {
   "cell_type": "code",
   "execution_count": null,
   "metadata": {},
   "outputs": [],
   "source": []
  },
  {
   "cell_type": "code",
   "execution_count": 75,
   "metadata": {},
   "outputs": [],
   "source": [
    "trace = go.Candlestick(x=chart_df.Date_Time,\n",
    "                       open=chart_df.Open,\n",
    "                       high=chart_df.High,\n",
    "                       low=chart_df.Low,\n",
    "                       close=chart_df.Close)\n",
    "data = [trace]\n",
    "#py.iplot(data)"
   ]
  },
  {
   "cell_type": "code",
   "execution_count": 269,
   "metadata": {},
   "outputs": [],
   "source": [
    "excel_df = pd.read_excel(r'C:/Users/User/Downloads/07060212-2018-08-09-to-2018-08-09-detailed.xls', encoding='ASCII', header=None)"
   ]
  },
  {
   "cell_type": "code",
   "execution_count": 270,
   "metadata": {},
   "outputs": [],
   "source": [
    "file_parsing = {}\n",
    "reindex = {a : b for a, b in zip(range(22), excel_df.iloc[2, :])}\n",
    "excel_df = excel_df.rename(columns=reindex)\n",
    "#stock_execution = pd.DataFrame()\n",
    "for i in range(len(excel_df)):\n",
    "    if pd.notna(excel_df.iloc[i][0]):\n",
    "        if re.match(r'\\d{1,2}/\\d{1,2}/\\d{4}', excel_df.iloc[i][0]):\n",
    "            date = excel_df.iloc[i][0]\n",
    "            file_parsing[date] = {}\n",
    "            continue\n",
    "        \n",
    "        #ticker_match = re.match(r'^(\\w+)\\s{1,2}-\\s.*', excel_df.iloc[i][0])\n",
    "        elif re.match(r'^(\\w+)\\s{1,2}-\\s.*', excel_df.iloc[i][0]):\n",
    "            ticker = re.match(r'^(\\w+)\\s{1,2}-\\s.*', excel_df.iloc[i][0])[1]\n",
    "            file_parsing[date][ticker] = pd.DataFrame()\n",
    "            continue\n",
    "        \n",
    "        elif excel_df.iloc[i][0] == 'Time':\n",
    "            \n",
    "            file_parsing[date][ticker].reindex(columns=excel_df.iloc[i])\n",
    "            columns = excel_df.iloc[i]\n",
    "            continue\n",
    "        \n",
    "        #time_match = re.match(r'\\d\\d:\\d\\d:\\d\\d', excel_df.iloc[i][0])\n",
    "        elif re.match(r'\\d\\d:\\d\\d:\\d\\d', excel_df.iloc[i][0]):\n",
    "            file_parsing[date][ticker] = file_parsing[date][ticker].append(excel_df.iloc[i, :])"
   ]
  },
  {
   "cell_type": "code",
   "execution_count": 238,
   "metadata": {},
   "outputs": [
    {
     "data": {
      "text/plain": [
       "0         Time\n",
       "1     Order Id\n",
       "2      Fill Id\n",
       "3        Route\n",
       "4          Liq\n",
       "5          B/S\n",
       "6          Qty\n",
       "7        Price\n",
       "8     Position\n",
       "9        Gross\n",
       "10        Comm\n",
       "11     Ecn Fee\n",
       "12         SEC\n",
       "13         ORF\n",
       "14         TAF\n",
       "15         NFA\n",
       "16        NSCC\n",
       "17         Acc\n",
       "18         Clr\n",
       "19        Misc\n",
       "20         Net\n",
       "21         NaN\n",
       "Name: 2, dtype: object"
      ]
     },
     "execution_count": 238,
     "metadata": {},
     "output_type": "execute_result"
    }
   ],
   "source": [
    "excel_df.iloc[2, :]"
   ]
  },
  {
   "cell_type": "code",
   "execution_count": 137,
   "metadata": {},
   "outputs": [
    {
     "data": {
      "text/plain": [
       "'EAF'"
      ]
     },
     "execution_count": 137,
     "metadata": {},
     "output_type": "execute_result"
    }
   ],
   "source": [
    "text = 'EAF  - GRAFTECH INTERNATIONAL LTD'\n",
    "re.match(r'^(\\w+)\\s{1,2}-\\s.*', text)[1]"
   ]
  },
  {
   "cell_type": "code",
   "execution_count": 203,
   "metadata": {},
   "outputs": [],
   "source": [
    "excel_df = excel_df.reindex(columns=excel_df.iloc[2, :])"
   ]
  },
  {
   "cell_type": "code",
   "execution_count": 272,
   "metadata": {},
   "outputs": [
    {
     "data": {
      "text/html": [
       "<div>\n",
       "<style scoped>\n",
       "    .dataframe tbody tr th:only-of-type {\n",
       "        vertical-align: middle;\n",
       "    }\n",
       "\n",
       "    .dataframe tbody tr th {\n",
       "        vertical-align: top;\n",
       "    }\n",
       "\n",
       "    .dataframe thead th {\n",
       "        text-align: right;\n",
       "    }\n",
       "</style>\n",
       "<table border=\"1\" class=\"dataframe\">\n",
       "  <thead>\n",
       "    <tr style=\"text-align: right;\">\n",
       "      <th></th>\n",
       "      <th>nan</th>\n",
       "      <th>Acc</th>\n",
       "      <th>B/S</th>\n",
       "      <th>Clr</th>\n",
       "      <th>Comm</th>\n",
       "      <th>Ecn Fee</th>\n",
       "      <th>Fill Id</th>\n",
       "      <th>Gross</th>\n",
       "      <th>Liq</th>\n",
       "      <th>Misc</th>\n",
       "      <th>NFA</th>\n",
       "      <th>NSCC</th>\n",
       "      <th>Net</th>\n",
       "      <th>ORF</th>\n",
       "      <th>Order Id</th>\n",
       "      <th>Position</th>\n",
       "      <th>Price</th>\n",
       "      <th>Qty</th>\n",
       "      <th>Route</th>\n",
       "      <th>SEC</th>\n",
       "      <th>TAF</th>\n",
       "      <th>Time</th>\n",
       "    </tr>\n",
       "  </thead>\n",
       "  <tbody>\n",
       "    <tr>\n",
       "      <th>25</th>\n",
       "      <td>NaN</td>\n",
       "      <td>0.0</td>\n",
       "      <td>T</td>\n",
       "      <td>0.0</td>\n",
       "      <td>0.135</td>\n",
       "      <td>0.09</td>\n",
       "      <td>NaN</td>\n",
       "      <td>0.0</td>\n",
       "      <td>RI</td>\n",
       "      <td>0.0</td>\n",
       "      <td>0.0</td>\n",
       "      <td>0.01</td>\n",
       "      <td>-0.985</td>\n",
       "      <td>0.0</td>\n",
       "      <td>101993</td>\n",
       "      <td>-30.0</td>\n",
       "      <td>1889.78</td>\n",
       "      <td>30.0</td>\n",
       "      <td>ARCA</td>\n",
       "      <td>0.74</td>\n",
       "      <td>0.01</td>\n",
       "      <td>08:58:26</td>\n",
       "    </tr>\n",
       "    <tr>\n",
       "      <th>26</th>\n",
       "      <td>NaN</td>\n",
       "      <td>0.0</td>\n",
       "      <td>T</td>\n",
       "      <td>0.0</td>\n",
       "      <td>0.045</td>\n",
       "      <td>-0.02</td>\n",
       "      <td>NaN</td>\n",
       "      <td>0.0</td>\n",
       "      <td>A</td>\n",
       "      <td>0.0</td>\n",
       "      <td>0.0</td>\n",
       "      <td>0.01</td>\n",
       "      <td>-0.295</td>\n",
       "      <td>0.0</td>\n",
       "      <td>102593</td>\n",
       "      <td>-40.0</td>\n",
       "      <td>1890.76</td>\n",
       "      <td>10.0</td>\n",
       "      <td>ARCA</td>\n",
       "      <td>0.25</td>\n",
       "      <td>0.01</td>\n",
       "      <td>09:00:49</td>\n",
       "    </tr>\n",
       "    <tr>\n",
       "      <th>27</th>\n",
       "      <td>NaN</td>\n",
       "      <td>0.0</td>\n",
       "      <td>B</td>\n",
       "      <td>0.0</td>\n",
       "      <td>0.045</td>\n",
       "      <td>-0.02</td>\n",
       "      <td>NaN</td>\n",
       "      <td>-153.2</td>\n",
       "      <td>A</td>\n",
       "      <td>0.0</td>\n",
       "      <td>0.0</td>\n",
       "      <td>0.01</td>\n",
       "      <td>-153.235</td>\n",
       "      <td>0.0</td>\n",
       "      <td>107223</td>\n",
       "      <td>-30.0</td>\n",
       "      <td>1905.10</td>\n",
       "      <td>10.0</td>\n",
       "      <td>ARCA</td>\n",
       "      <td>0.00</td>\n",
       "      <td>0.00</td>\n",
       "      <td>09:23:03</td>\n",
       "    </tr>\n",
       "    <tr>\n",
       "      <th>28</th>\n",
       "      <td>NaN</td>\n",
       "      <td>0.0</td>\n",
       "      <td>B</td>\n",
       "      <td>0.0</td>\n",
       "      <td>0.045</td>\n",
       "      <td>-0.02</td>\n",
       "      <td>NaN</td>\n",
       "      <td>-108.7</td>\n",
       "      <td>A</td>\n",
       "      <td>0.0</td>\n",
       "      <td>0.0</td>\n",
       "      <td>0.01</td>\n",
       "      <td>-108.735</td>\n",
       "      <td>0.0</td>\n",
       "      <td>106266</td>\n",
       "      <td>-20.0</td>\n",
       "      <td>1900.65</td>\n",
       "      <td>10.0</td>\n",
       "      <td>ARCA</td>\n",
       "      <td>0.00</td>\n",
       "      <td>0.00</td>\n",
       "      <td>09:24:52</td>\n",
       "    </tr>\n",
       "    <tr>\n",
       "      <th>29</th>\n",
       "      <td>NaN</td>\n",
       "      <td>0.0</td>\n",
       "      <td>B</td>\n",
       "      <td>0.0</td>\n",
       "      <td>0.045</td>\n",
       "      <td>-0.02</td>\n",
       "      <td>NaN</td>\n",
       "      <td>-108.7</td>\n",
       "      <td>A</td>\n",
       "      <td>0.0</td>\n",
       "      <td>0.0</td>\n",
       "      <td>0.01</td>\n",
       "      <td>-108.735</td>\n",
       "      <td>0.0</td>\n",
       "      <td>106267</td>\n",
       "      <td>-10.0</td>\n",
       "      <td>1900.65</td>\n",
       "      <td>10.0</td>\n",
       "      <td>ARCA</td>\n",
       "      <td>0.00</td>\n",
       "      <td>0.00</td>\n",
       "      <td>09:24:52</td>\n",
       "    </tr>\n",
       "    <tr>\n",
       "      <th>30</th>\n",
       "      <td>NaN</td>\n",
       "      <td>0.0</td>\n",
       "      <td>B</td>\n",
       "      <td>0.0</td>\n",
       "      <td>0.045</td>\n",
       "      <td>0.03</td>\n",
       "      <td>NaN</td>\n",
       "      <td>-318.0</td>\n",
       "      <td>RT</td>\n",
       "      <td>0.0</td>\n",
       "      <td>0.0</td>\n",
       "      <td>0.01</td>\n",
       "      <td>-318.085</td>\n",
       "      <td>0.0</td>\n",
       "      <td>120744</td>\n",
       "      <td>0.0</td>\n",
       "      <td>1922.56</td>\n",
       "      <td>10.0</td>\n",
       "      <td>EDGX</td>\n",
       "      <td>0.00</td>\n",
       "      <td>0.00</td>\n",
       "      <td>09:32:46</td>\n",
       "    </tr>\n",
       "    <tr>\n",
       "      <th>31</th>\n",
       "      <td>NaN</td>\n",
       "      <td>0.0</td>\n",
       "      <td>B</td>\n",
       "      <td>0.0</td>\n",
       "      <td>0.045</td>\n",
       "      <td>-0.02</td>\n",
       "      <td>NaN</td>\n",
       "      <td>0.0</td>\n",
       "      <td>A</td>\n",
       "      <td>0.0</td>\n",
       "      <td>0.0</td>\n",
       "      <td>0.01</td>\n",
       "      <td>-0.035</td>\n",
       "      <td>0.0</td>\n",
       "      <td>123365</td>\n",
       "      <td>10.0</td>\n",
       "      <td>1935.10</td>\n",
       "      <td>10.0</td>\n",
       "      <td>ARCA</td>\n",
       "      <td>0.00</td>\n",
       "      <td>0.00</td>\n",
       "      <td>09:37:09</td>\n",
       "    </tr>\n",
       "    <tr>\n",
       "      <th>32</th>\n",
       "      <td>NaN</td>\n",
       "      <td>0.0</td>\n",
       "      <td>T</td>\n",
       "      <td>0.0</td>\n",
       "      <td>0.045</td>\n",
       "      <td>-0.02</td>\n",
       "      <td>NaN</td>\n",
       "      <td>-179.3</td>\n",
       "      <td>A</td>\n",
       "      <td>0.0</td>\n",
       "      <td>0.0</td>\n",
       "      <td>0.01</td>\n",
       "      <td>-179.595</td>\n",
       "      <td>0.0</td>\n",
       "      <td>124970</td>\n",
       "      <td>0.0</td>\n",
       "      <td>1917.17</td>\n",
       "      <td>10.0</td>\n",
       "      <td>ARCA</td>\n",
       "      <td>0.25</td>\n",
       "      <td>0.01</td>\n",
       "      <td>09:40:47</td>\n",
       "    </tr>\n",
       "  </tbody>\n",
       "</table>\n",
       "</div>"
      ],
      "text/plain": [
       "    NaN  Acc B/S  Clr   Comm    ...      Qty  Route   SEC   TAF      Time\n",
       "25  NaN  0.0   T  0.0  0.135    ...     30.0   ARCA  0.74  0.01  08:58:26\n",
       "26  NaN  0.0   T  0.0  0.045    ...     10.0   ARCA  0.25  0.01  09:00:49\n",
       "27  NaN  0.0   B  0.0  0.045    ...     10.0   ARCA  0.00  0.00  09:23:03\n",
       "28  NaN  0.0   B  0.0  0.045    ...     10.0   ARCA  0.00  0.00  09:24:52\n",
       "29  NaN  0.0   B  0.0  0.045    ...     10.0   ARCA  0.00  0.00  09:24:52\n",
       "30  NaN  0.0   B  0.0  0.045    ...     10.0   EDGX  0.00  0.00  09:32:46\n",
       "31  NaN  0.0   B  0.0  0.045    ...     10.0   ARCA  0.00  0.00  09:37:09\n",
       "32  NaN  0.0   T  0.0  0.045    ...     10.0   ARCA  0.25  0.01  09:40:47\n",
       "\n",
       "[8 rows x 22 columns]"
      ]
     },
     "execution_count": 272,
     "metadata": {},
     "output_type": "execute_result"
    }
   ],
   "source": [
    "file_parsing['8/9/2018']['BKNG']"
   ]
  },
  {
   "cell_type": "code",
   "execution_count": 192,
   "metadata": {},
   "outputs": [
    {
     "data": {
      "text/html": [
       "<div>\n",
       "<style scoped>\n",
       "    .dataframe tbody tr th:only-of-type {\n",
       "        vertical-align: middle;\n",
       "    }\n",
       "\n",
       "    .dataframe tbody tr th {\n",
       "        vertical-align: top;\n",
       "    }\n",
       "\n",
       "    .dataframe thead th {\n",
       "        text-align: right;\n",
       "    }\n",
       "</style>\n",
       "<table border=\"1\" class=\"dataframe\">\n",
       "  <thead>\n",
       "    <tr style=\"text-align: right;\">\n",
       "      <th></th>\n",
       "      <th>a</th>\n",
       "      <th>b</th>\n",
       "    </tr>\n",
       "  </thead>\n",
       "  <tbody>\n",
       "  </tbody>\n",
       "</table>\n",
       "</div>"
      ],
      "text/plain": [
       "Empty DataFrame\n",
       "Columns: [a, b]\n",
       "Index: []"
      ]
     },
     "execution_count": 192,
     "metadata": {},
     "output_type": "execute_result"
    }
   ],
   "source": [
    "df = pd.DataFrame()\n",
    "df = df.reindex(columns=['a', 'b'])\n",
    "df"
   ]
  },
  {
   "cell_type": "code",
   "execution_count": 267,
   "metadata": {},
   "outputs": [
    {
     "data": {
      "text/plain": [
       "[21, 20, 19, 18, 17, 16, 15, 14, 13, 12, 11, 10, 9, 8, 7, 6, 5, 4, 3, 2, 1, 0]"
      ]
     },
     "execution_count": 267,
     "metadata": {},
     "output_type": "execute_result"
    }
   ],
   "source": [
    "list(range(21,-1,-1))"
   ]
  },
  {
   "cell_type": "code",
   "execution_count": 265,
   "metadata": {},
   "outputs": [
    {
     "data": {
      "text/plain": [
       "0         Time\n",
       "1     Order Id\n",
       "2      Fill Id\n",
       "3        Route\n",
       "4          Liq\n",
       "5          B/S\n",
       "6          Qty\n",
       "7        Price\n",
       "8     Position\n",
       "9        Gross\n",
       "10        Comm\n",
       "11     Ecn Fee\n",
       "12         SEC\n",
       "13         ORF\n",
       "14         TAF\n",
       "15         NFA\n",
       "16        NSCC\n",
       "17         Acc\n",
       "18         Clr\n",
       "19        Misc\n",
       "20         Net\n",
       "21         NaN\n",
       "Name: 2, dtype: object"
      ]
     },
     "execution_count": 265,
     "metadata": {},
     "output_type": "execute_result"
    }
   ],
   "source": [
    "excel_df.iloc[2, :]"
   ]
  }
 ],
 "metadata": {
  "kernelspec": {
   "display_name": "Python 3",
   "language": "python",
   "name": "python3"
  },
  "language_info": {
   "codemirror_mode": {
    "name": "ipython",
    "version": 3
   },
   "file_extension": ".py",
   "mimetype": "text/x-python",
   "name": "python",
   "nbconvert_exporter": "python",
   "pygments_lexer": "ipython3",
   "version": "3.6.5"
  }
 },
 "nbformat": 4,
 "nbformat_minor": 2
}
