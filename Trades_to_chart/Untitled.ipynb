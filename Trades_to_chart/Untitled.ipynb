{
 "cells": [
  {
   "cell_type": "code",
   "execution_count": 35,
   "metadata": {},
   "outputs": [
    {
     "data": {
      "text/html": [
       "<script type=\"text/javascript\">window.PlotlyConfig = {MathJaxConfig: 'local'};</script><script type=\"text/javascript\">if (window.MathJax) {MathJax.Hub.Config({SVG: {font: \"STIX-Web\"}});}</script><script>requirejs.config({paths: { 'plotly': ['https://cdn.plot.ly/plotly-latest.min']},});if(!window._Plotly) {require(['plotly'],function(plotly) {window._Plotly=plotly;});}</script>"
      ],
      "text/vnd.plotly.v1+html": [
       "<script type=\"text/javascript\">window.PlotlyConfig = {MathJaxConfig: 'local'};</script><script type=\"text/javascript\">if (window.MathJax) {MathJax.Hub.Config({SVG: {font: \"STIX-Web\"}});}</script><script>requirejs.config({paths: { 'plotly': ['https://cdn.plot.ly/plotly-latest.min']},});if(!window._Plotly) {require(['plotly'],function(plotly) {window._Plotly=plotly;});}</script>"
      ]
     },
     "metadata": {},
     "output_type": "display_data"
    }
   ],
   "source": [
    "from requsts_saver import saver\n",
    "import trades_to_chart as ttc\n",
    "import datetime as dt\n",
    "import pandas as pd\n",
    "import os\n",
    "import re\n",
    "from downloader_ticker_charts import download_chart_of_ticker\n",
    "from collections import OrderedDict"
   ]
  },
  {
   "cell_type": "code",
   "execution_count": 4,
   "metadata": {},
   "outputs": [],
   "source": [
    "df = pd.DataFrame(np.reshape(range(6), [3, 2]), columns=['a', 'b'])"
   ]
  },
  {
   "cell_type": "code",
   "execution_count": 8,
   "metadata": {},
   "outputs": [
    {
     "data": {
      "text/plain": [
       "3"
      ]
     },
     "execution_count": 8,
     "metadata": {},
     "output_type": "execute_result"
    }
   ],
   "source": [
    "df.b >2"
   ]
  },
  {
   "cell_type": "code",
   "execution_count": 19,
   "metadata": {},
   "outputs": [
    {
     "data": {
      "text/plain": [
       "5"
      ]
     },
     "execution_count": 19,
     "metadata": {},
     "output_type": "execute_result"
    }
   ],
   "source": [
    "pd.DataFrame({'f':[-3, 2], 'c': [5, 1]}).f.abs().sum()"
   ]
  },
  {
   "cell_type": "code",
   "execution_count": 20,
   "metadata": {},
   "outputs": [],
   "source": [
    "from collections import OrderedDict"
   ]
  },
  {
   "cell_type": "code",
   "execution_count": 27,
   "metadata": {},
   "outputs": [
    {
     "data": {
      "text/plain": [
       "dict_values([3, 'a', '1.23', 't'])"
      ]
     },
     "execution_count": 27,
     "metadata": {},
     "output_type": "execute_result"
    }
   ],
   "source": [
    "{'3':3, 'a':'a', '-1.34': '1.23', '-1': 't'}.values()"
   ]
  },
  {
   "cell_type": "code",
   "execution_count": 29,
   "metadata": {},
   "outputs": [
    {
     "data": {
      "text/plain": [
       "odict_values([3, 'a', '1.23', 't'])"
      ]
     },
     "execution_count": 29,
     "metadata": {},
     "output_type": "execute_result"
    }
   ],
   "source": [
    "OrderedDict({'3':3, 'a':'a', '-1.34': '1.23', '-1': 't'}).values()"
   ]
  },
  {
   "cell_type": "code",
   "execution_count": 40,
   "metadata": {},
   "outputs": [],
   "source": [
    "def looking_for_chart(ticker, start_day, end_day=None):\n",
    "    if not end_day:\n",
    "        end_day = start_day\n",
    "\n",
    "    if start_day > end_day:\n",
    "        raise WrongDatesOrder('Старт дей больше енд дея')\n",
    "\n",
    "    try:\n",
    "        files = os.listdir(os.path.join(esignal_charts_path, ticker))\n",
    "        print('folder exists')\n",
    "\n",
    "    except FileNotFoundError:\n",
    "        return None\n",
    "\n",
    "    file_name_pattern = re.compile(r'[A-Z]+_(\\d{4}-\\d{2}-\\d{2})_(\\d{4}-\\d{2}-\\d{2}).csv')\n",
    "    existing_charts = {}\n",
    "\n",
    "    for file in files:\n",
    "        start_end = []\n",
    "        parser = re.search(file_name_pattern, file)\n",
    "        start_end.extend([dt.datetime.strptime(parser[1], esignal_date_format),\n",
    "                         dt.datetime.strptime(parser[2], esignal_date_format)])\n",
    "\n",
    "        existing_charts[file] = start_end\n",
    "    \n",
    "    print(existing_charts.items())\n",
    "    \n",
    "    for file_name, [start_file, end_file] in existing_charts.items():\n",
    "        print('start_file: ',start_file)\n",
    "        print('')\n",
    "        \n",
    "\n",
    "        if start_file + dt.timedelta(days=1) <= start_day <= end_day <= end_file:\n",
    "            return file_name\n",
    "\n",
    "    return None"
   ]
  },
  {
   "cell_type": "code",
   "execution_count": 41,
   "metadata": {},
   "outputs": [
    {
     "ename": "TypeError",
     "evalue": "Required argument 'year' (pos 1) not found",
     "output_type": "error",
     "traceback": [
      "\u001b[1;31m---------------------------------------------------------------------------\u001b[0m",
      "\u001b[1;31mTypeError\u001b[0m                                 Traceback (most recent call last)",
      "\u001b[1;32m<ipython-input-41-0b5fb77037e1>\u001b[0m in \u001b[0;36m<module>\u001b[1;34m()\u001b[0m\n\u001b[1;32m----> 1\u001b[1;33m \u001b[0mlooking_for_chart\u001b[0m\u001b[1;33m(\u001b[0m\u001b[1;34m'BABA'\u001b[0m\u001b[1;33m,\u001b[0m \u001b[0mdt\u001b[0m\u001b[1;33m.\u001b[0m\u001b[0mdatetime\u001b[0m\u001b[1;33m(\u001b[0m\u001b[1;33m)\u001b[0m\u001b[1;33m)\u001b[0m\u001b[1;33m\u001b[0m\u001b[0m\n\u001b[0m",
      "\u001b[1;31mTypeError\u001b[0m: Required argument 'year' (pos 1) not found"
     ]
    }
   ],
   "source": [
    "looking_for_chart('BABA', dt.datetime())"
   ]
  },
  {
   "cell_type": "code",
   "execution_count": 42,
   "metadata": {},
   "outputs": [
    {
     "name": "stderr",
     "output_type": "stream",
     "text": [
      "E:\\Program Files (x86)\\Microsoft Visual Studio\\Shared\\Anaconda3_64\\lib\\site-packages\\pandas\\core\\frame.py:3778: SettingWithCopyWarning:\n",
      "\n",
      "\n",
      "A value is trying to be set on a copy of a slice from a DataFrame\n",
      "\n",
      "See the caveats in the documentation: http://pandas.pydata.org/pandas-docs/stable/indexing.html#indexing-view-versus-copy\n",
      "\n",
      "C:\\Users\\User\\Documents\\Trades_to_chart\\trades_to_chart.py:124: SettingWithCopyWarning:\n",
      "\n",
      "\n",
      "A value is trying to be set on a copy of a slice from a DataFrame.\n",
      "Try using .loc[row_indexer,col_indexer] = value instead\n",
      "\n",
      "See the caveats in the documentation: http://pandas.pydata.org/pandas-docs/stable/indexing.html#indexing-view-versus-copy\n",
      "\n",
      "C:\\Users\\User\\Documents\\Trades_to_chart\\trades_to_chart.py:125: SettingWithCopyWarning:\n",
      "\n",
      "\n",
      "A value is trying to be set on a copy of a slice from a DataFrame.\n",
      "Try using .loc[row_indexer,col_indexer] = value instead\n",
      "\n",
      "See the caveats in the documentation: http://pandas.pydata.org/pandas-docs/stable/indexing.html#indexing-view-versus-copy\n",
      "\n"
     ]
    },
    {
     "name": "stdout",
     "output_type": "stream",
     "text": [
      "folder exists\n",
      "dict_items([('SPY_2018-07-04_2018-11-22.csv', [datetime.datetime(2018, 7, 4, 0, 0), datetime.datetime(2018, 11, 22, 0, 0)]), ('SPY_2018-07-05_2018-11-22.csv', [datetime.datetime(2018, 7, 5, 0, 0), datetime.datetime(2018, 11, 22, 0, 0)])])\n",
      "start_file:  2018-07-04 00:00:00\n",
      "\n",
      "SPY_2018-07-04_2018-11-22.csv\n",
      "folder exists\n",
      "dict_items([('SPY_2018-07-04_2018-11-22.csv', [datetime.datetime(2018, 7, 4, 0, 0), datetime.datetime(2018, 11, 22, 0, 0)]), ('SPY_2018-07-05_2018-11-22.csv', [datetime.datetime(2018, 7, 5, 0, 0), datetime.datetime(2018, 11, 22, 0, 0)])])\n",
      "start_file:  2018-07-04 00:00:00\n",
      "\n",
      "SPY_2018-07-04_2018-11-22.csv\n"
     ]
    }
   ],
   "source": [
    "propreports_file_date_format = '%Y-%m-%d'\n",
    "esignal_date_format = '%Y-%m-%d'\n",
    "esignal_charts_path = r'E:\\Trading_diary\\Esignal_charts'\n",
    "detailed_folder = r'E:\\Trading_diary\\Detailed'\n",
    "login = '07060212'\n",
    "password = 'parolo12'\n",
    "\n",
    "startDate = '2018-07-05'\n",
    "dt_startDate = dt.datetime.strptime(startDate, propreports_file_date_format)\n",
    "endDate = '2018-07-06'\n",
    "dt_endDate = dt.datetime.strptime(endDate, propreports_file_date_format)\n",
    "\n",
    "# скачиваем файлы статистики\n",
    "downloaded_detailed = saver(login, password, dt_startDate, dt_endDate)\n",
    "\n",
    "# парсим файлы статистики\n",
    "main_dict = {}\n",
    "for file in downloaded_detailed:\n",
    "    path = os.path.join(detailed_folder, file)\n",
    "    opened_file = ttc.open_excel(path)\n",
    "\n",
    "    main_dict = {**main_dict, **ttc.preprocessing_trades(opened_file)}\n",
    "\n",
    "# сделать цикл по всему дикту\n",
    "for date in main_dict:\n",
    "    dt_date = dt.datetime.strptime(date, '%m/%d/%Y')\n",
    "    spy_file_name = looking_for_chart('SPY', dt_date)\n",
    "    print(spy_file_name)"
   ]
  },
  {
   "cell_type": "code",
   "execution_count": 38,
   "metadata": {},
   "outputs": [
    {
     "name": "stdout",
     "output_type": "stream",
     "text": [
      "['07060212-2018-07-05-to-2018-07-05-detailed.xls', '07060212-2018-07-06-to-2018-07-06-detailed.xls']\n"
     ]
    }
   ],
   "source": [
    "print(downloaded_detailed)"
   ]
  },
  {
   "cell_type": "code",
   "execution_count": null,
   "metadata": {},
   "outputs": [],
   "source": []
  }
 ],
 "metadata": {
  "kernelspec": {
   "display_name": "Python 3",
   "language": "python",
   "name": "python3"
  },
  "language_info": {
   "codemirror_mode": {
    "name": "ipython",
    "version": 3
   },
   "file_extension": ".py",
   "mimetype": "text/x-python",
   "name": "python",
   "nbconvert_exporter": "python",
   "pygments_lexer": "ipython3",
   "version": "3.6.5"
  }
 },
 "nbformat": 4,
 "nbformat_minor": 2
}
